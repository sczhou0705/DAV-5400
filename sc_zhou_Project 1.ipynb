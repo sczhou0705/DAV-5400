{
 "cells": [
  {
   "cell_type": "markdown",
   "metadata": {},
   "source": [
    "# Poject 1 : EV stock "
   ]
  },
  {
   "cell_type": "markdown",
   "metadata": {},
   "source": [
    "### GROUP Memebers:\n",
    "1:SHICHAO ZHOU\n",
    "2:YIHAO SUN"
   ]
  },
  {
   "cell_type": "markdown",
   "metadata": {},
   "source": [
    "## Part 1: Introduction"
   ]
  },
  {
   "cell_type": "markdown",
   "metadata": {},
   "source": [
    "We will work with a dataset containing information on electric vehicle stock.  Recently, electric vehicle stocks have received much attention from investors. We have selected four representative companies and they are NIO, XPEV, LI, and TSLA."
   ]
  },
  {
   "cell_type": "markdown",
   "metadata": {},
   "source": [
    "#### Research question(s)\n",
    "- Calculate the six months return of each stock. Which stock has the highest return? Which stock has the lowest return during the six months?\n",
    "- Which stock has the most volatility? \n",
    "- Are the prices of these four stocks highly positively correlated?"
   ]
  },
  {
   "cell_type": "markdown",
   "metadata": {},
   "source": [
    "## Part 2: Data Summary"
   ]
  },
  {
   "cell_type": "markdown",
   "metadata": {},
   "source": [
    "We downloaded the dataset from \"historical data\" of Yahoo Finance. Related links are shared below:\n",
    "\n",
    "nio: https://finance.yahoo.com/quote/NIO?p=NIO&.tsrc=fin-srch\n",
    "\n",
    "xpev: https://finance.yahoo.com/quote/XPEV?p=XPEV&.tsrc=fin-srch\n",
    "\n",
    "li: https://finance.yahoo.com/quote/LI?p=LI&.tsrc=fin-srch\n",
    "\n",
    "tsla: https://finance.yahoo.com/quote/TSLA?p=TSLA&.tsrc=fin-srch\n",
    "\n",
    "There is 8 columns and 503 rows in the dataset.\n",
    "The dataset contains 8 attributes and they are \"symbol\",\"date\",\"open\",\"high\",\"low\",\"close\",\"adj close\" and \"volume\".\n",
    "\n",
    "Data type:\n",
    "\n",
    "1: symbol : stock ticker\n",
    "- Categorical nominal\n",
    "\n",
    "2:date : trade day exclude weekends and holidays\n",
    "- Categorical ordinal\n",
    "\n",
    "3: open : It is the price at which the financial security opens in the market when trading begins.  \n",
    "- numeric\n",
    "\n",
    "4: high : The highest closing price of a stock over the past 52 weeks, adjusted for any stock splits, or the highest intraday price of a stock in the most recent (or current) trading session.  \n",
    "- numeric\n",
    "\n",
    "5:low : Low is the minimum price of a stock in a period.\n",
    "- numeric\n",
    "\n",
    "6: close: \"Closing price\" generally refers to the last price at which a stock trades during a regular trading session.\n",
    "- numeric\n",
    "\n",
    "7: adj close: The adjusted closing price amends a stock's closing price to reflect that stock's value after accounting for any corporate actions. It is often used when examining historical returns or doing a detailed analysis of past performance.\n",
    "- numeric\n",
    "\n",
    "8: volume: Volume measures the number of shares traded in a stock or contracts traded in futures or options.\n",
    "- numeric\n",
    "\n"
   ]
  },
  {
   "cell_type": "markdown",
   "metadata": {},
   "source": [
    "#### Data preparation"
   ]
  },
  {
   "cell_type": "code",
   "execution_count": 1,
   "metadata": {},
   "outputs": [],
   "source": [
    "# Import libraries we needed.\n",
    "import numpy as np\n",
    "import pandas as pd"
   ]
  },
  {
   "cell_type": "code",
   "execution_count": 2,
   "metadata": {},
   "outputs": [
    {
     "data": {
      "text/html": [
       "<div>\n",
       "<style scoped>\n",
       "    .dataframe tbody tr th:only-of-type {\n",
       "        vertical-align: middle;\n",
       "    }\n",
       "\n",
       "    .dataframe tbody tr th {\n",
       "        vertical-align: top;\n",
       "    }\n",
       "\n",
       "    .dataframe thead th {\n",
       "        text-align: right;\n",
       "    }\n",
       "</style>\n",
       "<table border=\"1\" class=\"dataframe\">\n",
       "  <thead>\n",
       "    <tr style=\"text-align: right;\">\n",
       "      <th></th>\n",
       "      <th>symbol</th>\n",
       "      <th>Date</th>\n",
       "      <th>Open</th>\n",
       "      <th>High</th>\n",
       "      <th>Low</th>\n",
       "      <th>Close</th>\n",
       "      <th>Adj Close</th>\n",
       "      <th>Volume</th>\n",
       "    </tr>\n",
       "  </thead>\n",
       "  <tbody>\n",
       "    <tr>\n",
       "      <th>0</th>\n",
       "      <td>nio</td>\n",
       "      <td>8/26/2020</td>\n",
       "      <td>19.010000</td>\n",
       "      <td>20.969999</td>\n",
       "      <td>18.559999</td>\n",
       "      <td>20.440001</td>\n",
       "      <td>20.440001</td>\n",
       "      <td>364104600</td>\n",
       "    </tr>\n",
       "    <tr>\n",
       "      <th>1</th>\n",
       "      <td>nio</td>\n",
       "      <td>8/27/2020</td>\n",
       "      <td>19.990000</td>\n",
       "      <td>20.469999</td>\n",
       "      <td>18.760000</td>\n",
       "      <td>19.879999</td>\n",
       "      <td>19.879999</td>\n",
       "      <td>199850300</td>\n",
       "    </tr>\n",
       "    <tr>\n",
       "      <th>2</th>\n",
       "      <td>nio</td>\n",
       "      <td>8/28/2020</td>\n",
       "      <td>18.870001</td>\n",
       "      <td>19.440001</td>\n",
       "      <td>18.110001</td>\n",
       "      <td>18.500000</td>\n",
       "      <td>18.500000</td>\n",
       "      <td>154799800</td>\n",
       "    </tr>\n",
       "    <tr>\n",
       "      <th>3</th>\n",
       "      <td>nio</td>\n",
       "      <td>8/31/2020</td>\n",
       "      <td>17.190001</td>\n",
       "      <td>19.830000</td>\n",
       "      <td>16.820000</td>\n",
       "      <td>19.030001</td>\n",
       "      <td>19.030001</td>\n",
       "      <td>226610900</td>\n",
       "    </tr>\n",
       "    <tr>\n",
       "      <th>4</th>\n",
       "      <td>nio</td>\n",
       "      <td>9/1/2020</td>\n",
       "      <td>19.450001</td>\n",
       "      <td>20.379999</td>\n",
       "      <td>18.750000</td>\n",
       "      <td>20.120001</td>\n",
       "      <td>20.120001</td>\n",
       "      <td>137226000</td>\n",
       "    </tr>\n",
       "    <tr>\n",
       "      <th>...</th>\n",
       "      <td>...</td>\n",
       "      <td>...</td>\n",
       "      <td>...</td>\n",
       "      <td>...</td>\n",
       "      <td>...</td>\n",
       "      <td>...</td>\n",
       "      <td>...</td>\n",
       "      <td>...</td>\n",
       "    </tr>\n",
       "    <tr>\n",
       "      <th>498</th>\n",
       "      <td>tsla</td>\n",
       "      <td>2/19/2021</td>\n",
       "      <td>795.000000</td>\n",
       "      <td>796.789978</td>\n",
       "      <td>777.369995</td>\n",
       "      <td>781.299988</td>\n",
       "      <td>781.299988</td>\n",
       "      <td>18904800</td>\n",
       "    </tr>\n",
       "    <tr>\n",
       "      <th>499</th>\n",
       "      <td>tsla</td>\n",
       "      <td>2/22/2021</td>\n",
       "      <td>762.640015</td>\n",
       "      <td>768.500000</td>\n",
       "      <td>710.200012</td>\n",
       "      <td>714.500000</td>\n",
       "      <td>714.500000</td>\n",
       "      <td>37011700</td>\n",
       "    </tr>\n",
       "    <tr>\n",
       "      <th>500</th>\n",
       "      <td>tsla</td>\n",
       "      <td>2/23/2021</td>\n",
       "      <td>662.130005</td>\n",
       "      <td>713.609985</td>\n",
       "      <td>619.000000</td>\n",
       "      <td>698.840027</td>\n",
       "      <td>698.840027</td>\n",
       "      <td>66397000</td>\n",
       "    </tr>\n",
       "    <tr>\n",
       "      <th>501</th>\n",
       "      <td>tsla</td>\n",
       "      <td>2/24/2021</td>\n",
       "      <td>711.849976</td>\n",
       "      <td>745.000000</td>\n",
       "      <td>694.169983</td>\n",
       "      <td>742.020020</td>\n",
       "      <td>742.020020</td>\n",
       "      <td>36677100</td>\n",
       "    </tr>\n",
       "    <tr>\n",
       "      <th>502</th>\n",
       "      <td>tsla</td>\n",
       "      <td>2/25/2021</td>\n",
       "      <td>726.150024</td>\n",
       "      <td>737.210022</td>\n",
       "      <td>670.580017</td>\n",
       "      <td>682.219971</td>\n",
       "      <td>682.219971</td>\n",
       "      <td>38619900</td>\n",
       "    </tr>\n",
       "  </tbody>\n",
       "</table>\n",
       "<p>503 rows × 8 columns</p>\n",
       "</div>"
      ],
      "text/plain": [
       "    symbol       Date        Open        High         Low       Close  \\\n",
       "0      nio  8/26/2020   19.010000   20.969999   18.559999   20.440001   \n",
       "1      nio  8/27/2020   19.990000   20.469999   18.760000   19.879999   \n",
       "2      nio  8/28/2020   18.870001   19.440001   18.110001   18.500000   \n",
       "3      nio  8/31/2020   17.190001   19.830000   16.820000   19.030001   \n",
       "4      nio   9/1/2020   19.450001   20.379999   18.750000   20.120001   \n",
       "..     ...        ...         ...         ...         ...         ...   \n",
       "498   tsla  2/19/2021  795.000000  796.789978  777.369995  781.299988   \n",
       "499   tsla  2/22/2021  762.640015  768.500000  710.200012  714.500000   \n",
       "500   tsla  2/23/2021  662.130005  713.609985  619.000000  698.840027   \n",
       "501   tsla  2/24/2021  711.849976  745.000000  694.169983  742.020020   \n",
       "502   tsla  2/25/2021  726.150024  737.210022  670.580017  682.219971   \n",
       "\n",
       "      Adj Close     Volume  \n",
       "0     20.440001  364104600  \n",
       "1     19.879999  199850300  \n",
       "2     18.500000  154799800  \n",
       "3     19.030001  226610900  \n",
       "4     20.120001  137226000  \n",
       "..          ...        ...  \n",
       "498  781.299988   18904800  \n",
       "499  714.500000   37011700  \n",
       "500  698.840027   66397000  \n",
       "501  742.020020   36677100  \n",
       "502  682.219971   38619900  \n",
       "\n",
       "[503 rows x 8 columns]"
      ]
     },
     "execution_count": 2,
     "metadata": {},
     "output_type": "execute_result"
    }
   ],
   "source": [
    "# # read contents of a csv file from GitHub into a Pandas DataFrame\n",
    "filename = \"https://raw.githubusercontent.com/sczhou0705/DAV-5400/main/ev.csv\"\n",
    "df =  pd.read_csv(filename)\n",
    "df"
   ]
  },
  {
   "cell_type": "code",
   "execution_count": 3,
   "metadata": {},
   "outputs": [
    {
     "name": "stdout",
     "output_type": "stream",
     "text": [
      "     symbol   Date   Open   High    Low  Close  Adj Close  Volume\n",
      "0     False  False  False  False  False  False      False   False\n",
      "1     False  False  False  False  False  False      False   False\n",
      "2     False  False  False  False  False  False      False   False\n",
      "3     False  False  False  False  False  False      False   False\n",
      "4     False  False  False  False  False  False      False   False\n",
      "..      ...    ...    ...    ...    ...    ...        ...     ...\n",
      "498   False  False  False  False  False  False      False   False\n",
      "499   False  False  False  False  False  False      False   False\n",
      "500   False  False  False  False  False  False      False   False\n",
      "501   False  False  False  False  False  False      False   False\n",
      "502   False  False  False  False  False  False      False   False\n",
      "\n",
      "[503 rows x 8 columns]\n"
     ]
    }
   ],
   "source": [
    "#### test missing values\n",
    "print(pd.isnull(df))"
   ]
  },
  {
   "cell_type": "code",
   "execution_count": 4,
   "metadata": {},
   "outputs": [
    {
     "name": "stdout",
     "output_type": "stream",
     "text": [
      "<class 'pandas.core.frame.DataFrame'>\n",
      "RangeIndex: 503 entries, 0 to 502\n",
      "Data columns (total 8 columns):\n",
      " #   Column     Non-Null Count  Dtype  \n",
      "---  ------     --------------  -----  \n",
      " 0   symbol     503 non-null    object \n",
      " 1   Date       503 non-null    object \n",
      " 2   Open       503 non-null    float64\n",
      " 3   High       503 non-null    float64\n",
      " 4   Low        503 non-null    float64\n",
      " 5   Close      503 non-null    float64\n",
      " 6   Adj Close  503 non-null    float64\n",
      " 7   Volume     503 non-null    int64  \n",
      "dtypes: float64(5), int64(1), object(2)\n",
      "memory usage: 31.6+ KB\n"
     ]
    }
   ],
   "source": [
    "### check dataframe info\n",
    "df.info()"
   ]
  },
  {
   "cell_type": "code",
   "execution_count": 5,
   "metadata": {},
   "outputs": [
    {
     "data": {
      "text/html": [
       "<div>\n",
       "<style scoped>\n",
       "    .dataframe tbody tr th:only-of-type {\n",
       "        vertical-align: middle;\n",
       "    }\n",
       "\n",
       "    .dataframe tbody tr th {\n",
       "        vertical-align: top;\n",
       "    }\n",
       "\n",
       "    .dataframe thead th {\n",
       "        text-align: right;\n",
       "    }\n",
       "</style>\n",
       "<table border=\"1\" class=\"dataframe\">\n",
       "  <thead>\n",
       "    <tr style=\"text-align: right;\">\n",
       "      <th></th>\n",
       "      <th>symbol</th>\n",
       "      <th>Date</th>\n",
       "      <th>Open</th>\n",
       "      <th>High</th>\n",
       "      <th>Low</th>\n",
       "      <th>Close</th>\n",
       "      <th>Adj Close</th>\n",
       "      <th>Volume</th>\n",
       "    </tr>\n",
       "  </thead>\n",
       "  <tbody>\n",
       "    <tr>\n",
       "      <th>0</th>\n",
       "      <td>nio</td>\n",
       "      <td>8/26/2020</td>\n",
       "      <td>19.010000</td>\n",
       "      <td>20.969999</td>\n",
       "      <td>18.559999</td>\n",
       "      <td>20.440001</td>\n",
       "      <td>20.440001</td>\n",
       "      <td>364104600</td>\n",
       "    </tr>\n",
       "    <tr>\n",
       "      <th>1</th>\n",
       "      <td>nio</td>\n",
       "      <td>8/27/2020</td>\n",
       "      <td>19.990000</td>\n",
       "      <td>20.469999</td>\n",
       "      <td>18.760000</td>\n",
       "      <td>19.879999</td>\n",
       "      <td>19.879999</td>\n",
       "      <td>199850300</td>\n",
       "    </tr>\n",
       "    <tr>\n",
       "      <th>2</th>\n",
       "      <td>nio</td>\n",
       "      <td>8/28/2020</td>\n",
       "      <td>18.870001</td>\n",
       "      <td>19.440001</td>\n",
       "      <td>18.110001</td>\n",
       "      <td>18.500000</td>\n",
       "      <td>18.500000</td>\n",
       "      <td>154799800</td>\n",
       "    </tr>\n",
       "    <tr>\n",
       "      <th>3</th>\n",
       "      <td>nio</td>\n",
       "      <td>8/31/2020</td>\n",
       "      <td>17.190001</td>\n",
       "      <td>19.830000</td>\n",
       "      <td>16.820000</td>\n",
       "      <td>19.030001</td>\n",
       "      <td>19.030001</td>\n",
       "      <td>226610900</td>\n",
       "    </tr>\n",
       "    <tr>\n",
       "      <th>4</th>\n",
       "      <td>nio</td>\n",
       "      <td>9/1/2020</td>\n",
       "      <td>19.450001</td>\n",
       "      <td>20.379999</td>\n",
       "      <td>18.750000</td>\n",
       "      <td>20.120001</td>\n",
       "      <td>20.120001</td>\n",
       "      <td>137226000</td>\n",
       "    </tr>\n",
       "    <tr>\n",
       "      <th>...</th>\n",
       "      <td>...</td>\n",
       "      <td>...</td>\n",
       "      <td>...</td>\n",
       "      <td>...</td>\n",
       "      <td>...</td>\n",
       "      <td>...</td>\n",
       "      <td>...</td>\n",
       "      <td>...</td>\n",
       "    </tr>\n",
       "    <tr>\n",
       "      <th>121</th>\n",
       "      <td>nio</td>\n",
       "      <td>2/19/2021</td>\n",
       "      <td>55.720001</td>\n",
       "      <td>56.040001</td>\n",
       "      <td>54.099998</td>\n",
       "      <td>55.040001</td>\n",
       "      <td>55.040001</td>\n",
       "      <td>42682700</td>\n",
       "    </tr>\n",
       "    <tr>\n",
       "      <th>122</th>\n",
       "      <td>nio</td>\n",
       "      <td>2/22/2021</td>\n",
       "      <td>54.180000</td>\n",
       "      <td>54.369999</td>\n",
       "      <td>50.400002</td>\n",
       "      <td>50.680000</td>\n",
       "      <td>50.680000</td>\n",
       "      <td>68146000</td>\n",
       "    </tr>\n",
       "    <tr>\n",
       "      <th>123</th>\n",
       "      <td>nio</td>\n",
       "      <td>2/23/2021</td>\n",
       "      <td>45.619999</td>\n",
       "      <td>49.669998</td>\n",
       "      <td>41.660000</td>\n",
       "      <td>49.110001</td>\n",
       "      <td>49.110001</td>\n",
       "      <td>142185500</td>\n",
       "    </tr>\n",
       "    <tr>\n",
       "      <th>124</th>\n",
       "      <td>nio</td>\n",
       "      <td>2/24/2021</td>\n",
       "      <td>49.310001</td>\n",
       "      <td>52.070000</td>\n",
       "      <td>47.750000</td>\n",
       "      <td>51.860001</td>\n",
       "      <td>51.860001</td>\n",
       "      <td>82251500</td>\n",
       "    </tr>\n",
       "    <tr>\n",
       "      <th>125</th>\n",
       "      <td>nio</td>\n",
       "      <td>2/25/2021</td>\n",
       "      <td>51.599998</td>\n",
       "      <td>51.849998</td>\n",
       "      <td>46.009998</td>\n",
       "      <td>46.810001</td>\n",
       "      <td>46.810001</td>\n",
       "      <td>94204200</td>\n",
       "    </tr>\n",
       "  </tbody>\n",
       "</table>\n",
       "<p>126 rows × 8 columns</p>\n",
       "</div>"
      ],
      "text/plain": [
       "    symbol       Date       Open       High        Low      Close  Adj Close  \\\n",
       "0      nio  8/26/2020  19.010000  20.969999  18.559999  20.440001  20.440001   \n",
       "1      nio  8/27/2020  19.990000  20.469999  18.760000  19.879999  19.879999   \n",
       "2      nio  8/28/2020  18.870001  19.440001  18.110001  18.500000  18.500000   \n",
       "3      nio  8/31/2020  17.190001  19.830000  16.820000  19.030001  19.030001   \n",
       "4      nio   9/1/2020  19.450001  20.379999  18.750000  20.120001  20.120001   \n",
       "..     ...        ...        ...        ...        ...        ...        ...   \n",
       "121    nio  2/19/2021  55.720001  56.040001  54.099998  55.040001  55.040001   \n",
       "122    nio  2/22/2021  54.180000  54.369999  50.400002  50.680000  50.680000   \n",
       "123    nio  2/23/2021  45.619999  49.669998  41.660000  49.110001  49.110001   \n",
       "124    nio  2/24/2021  49.310001  52.070000  47.750000  51.860001  51.860001   \n",
       "125    nio  2/25/2021  51.599998  51.849998  46.009998  46.810001  46.810001   \n",
       "\n",
       "        Volume  \n",
       "0    364104600  \n",
       "1    199850300  \n",
       "2    154799800  \n",
       "3    226610900  \n",
       "4    137226000  \n",
       "..         ...  \n",
       "121   42682700  \n",
       "122   68146000  \n",
       "123  142185500  \n",
       "124   82251500  \n",
       "125   94204200  \n",
       "\n",
       "[126 rows x 8 columns]"
      ]
     },
     "execution_count": 5,
     "metadata": {},
     "output_type": "execute_result"
    }
   ],
   "source": [
    "# filter symbol by nio,xpev,li,tsla respectively\n",
    "nio = df[df['symbol'] == 'nio']\n",
    "nio"
   ]
  },
  {
   "cell_type": "code",
   "execution_count": 6,
   "metadata": {},
   "outputs": [
    {
     "data": {
      "text/html": [
       "<div>\n",
       "<style scoped>\n",
       "    .dataframe tbody tr th:only-of-type {\n",
       "        vertical-align: middle;\n",
       "    }\n",
       "\n",
       "    .dataframe tbody tr th {\n",
       "        vertical-align: top;\n",
       "    }\n",
       "\n",
       "    .dataframe thead th {\n",
       "        text-align: right;\n",
       "    }\n",
       "</style>\n",
       "<table border=\"1\" class=\"dataframe\">\n",
       "  <thead>\n",
       "    <tr style=\"text-align: right;\">\n",
       "      <th></th>\n",
       "      <th>symbol</th>\n",
       "      <th>Date</th>\n",
       "      <th>Open</th>\n",
       "      <th>High</th>\n",
       "      <th>Low</th>\n",
       "      <th>Close</th>\n",
       "      <th>Adj Close</th>\n",
       "      <th>Volume</th>\n",
       "    </tr>\n",
       "  </thead>\n",
       "  <tbody>\n",
       "    <tr>\n",
       "      <th>252</th>\n",
       "      <td>xpev</td>\n",
       "      <td>8/27/2020</td>\n",
       "      <td>23.100000</td>\n",
       "      <td>25.000000</td>\n",
       "      <td>21.200001</td>\n",
       "      <td>21.219999</td>\n",
       "      <td>21.219999</td>\n",
       "      <td>82219700</td>\n",
       "    </tr>\n",
       "    <tr>\n",
       "      <th>253</th>\n",
       "      <td>xpev</td>\n",
       "      <td>8/28/2020</td>\n",
       "      <td>23.980000</td>\n",
       "      <td>24.400000</td>\n",
       "      <td>22.020000</td>\n",
       "      <td>22.790001</td>\n",
       "      <td>22.790001</td>\n",
       "      <td>44847300</td>\n",
       "    </tr>\n",
       "    <tr>\n",
       "      <th>254</th>\n",
       "      <td>xpev</td>\n",
       "      <td>8/31/2020</td>\n",
       "      <td>22.690001</td>\n",
       "      <td>22.790001</td>\n",
       "      <td>20.330000</td>\n",
       "      <td>20.500000</td>\n",
       "      <td>20.500000</td>\n",
       "      <td>20816000</td>\n",
       "    </tr>\n",
       "    <tr>\n",
       "      <th>255</th>\n",
       "      <td>xpev</td>\n",
       "      <td>9/1/2020</td>\n",
       "      <td>20.980000</td>\n",
       "      <td>21.790001</td>\n",
       "      <td>20.100000</td>\n",
       "      <td>21.610001</td>\n",
       "      <td>21.610001</td>\n",
       "      <td>15291400</td>\n",
       "    </tr>\n",
       "    <tr>\n",
       "      <th>256</th>\n",
       "      <td>xpev</td>\n",
       "      <td>9/2/2020</td>\n",
       "      <td>21.990000</td>\n",
       "      <td>22.000000</td>\n",
       "      <td>20.379999</td>\n",
       "      <td>21.090000</td>\n",
       "      <td>21.090000</td>\n",
       "      <td>9090100</td>\n",
       "    </tr>\n",
       "    <tr>\n",
       "      <th>...</th>\n",
       "      <td>...</td>\n",
       "      <td>...</td>\n",
       "      <td>...</td>\n",
       "      <td>...</td>\n",
       "      <td>...</td>\n",
       "      <td>...</td>\n",
       "      <td>...</td>\n",
       "      <td>...</td>\n",
       "    </tr>\n",
       "    <tr>\n",
       "      <th>372</th>\n",
       "      <td>xpev</td>\n",
       "      <td>2/19/2021</td>\n",
       "      <td>42.459999</td>\n",
       "      <td>42.580002</td>\n",
       "      <td>40.660000</td>\n",
       "      <td>40.880001</td>\n",
       "      <td>40.880001</td>\n",
       "      <td>14054100</td>\n",
       "    </tr>\n",
       "    <tr>\n",
       "      <th>373</th>\n",
       "      <td>xpev</td>\n",
       "      <td>2/22/2021</td>\n",
       "      <td>39.740002</td>\n",
       "      <td>40.470001</td>\n",
       "      <td>37.799999</td>\n",
       "      <td>38.000000</td>\n",
       "      <td>38.000000</td>\n",
       "      <td>22573900</td>\n",
       "    </tr>\n",
       "    <tr>\n",
       "      <th>374</th>\n",
       "      <td>xpev</td>\n",
       "      <td>2/23/2021</td>\n",
       "      <td>36.400002</td>\n",
       "      <td>38.040001</td>\n",
       "      <td>32.720001</td>\n",
       "      <td>37.910000</td>\n",
       "      <td>37.910000</td>\n",
       "      <td>35811800</td>\n",
       "    </tr>\n",
       "    <tr>\n",
       "      <th>375</th>\n",
       "      <td>xpev</td>\n",
       "      <td>2/24/2021</td>\n",
       "      <td>37.830002</td>\n",
       "      <td>39.080002</td>\n",
       "      <td>35.750000</td>\n",
       "      <td>38.709999</td>\n",
       "      <td>38.709999</td>\n",
       "      <td>17450100</td>\n",
       "    </tr>\n",
       "    <tr>\n",
       "      <th>376</th>\n",
       "      <td>xpev</td>\n",
       "      <td>2/25/2021</td>\n",
       "      <td>38.000000</td>\n",
       "      <td>38.009998</td>\n",
       "      <td>34.750000</td>\n",
       "      <td>35.400002</td>\n",
       "      <td>35.400002</td>\n",
       "      <td>21883800</td>\n",
       "    </tr>\n",
       "  </tbody>\n",
       "</table>\n",
       "<p>125 rows × 8 columns</p>\n",
       "</div>"
      ],
      "text/plain": [
       "    symbol       Date       Open       High        Low      Close  Adj Close  \\\n",
       "252   xpev  8/27/2020  23.100000  25.000000  21.200001  21.219999  21.219999   \n",
       "253   xpev  8/28/2020  23.980000  24.400000  22.020000  22.790001  22.790001   \n",
       "254   xpev  8/31/2020  22.690001  22.790001  20.330000  20.500000  20.500000   \n",
       "255   xpev   9/1/2020  20.980000  21.790001  20.100000  21.610001  21.610001   \n",
       "256   xpev   9/2/2020  21.990000  22.000000  20.379999  21.090000  21.090000   \n",
       "..     ...        ...        ...        ...        ...        ...        ...   \n",
       "372   xpev  2/19/2021  42.459999  42.580002  40.660000  40.880001  40.880001   \n",
       "373   xpev  2/22/2021  39.740002  40.470001  37.799999  38.000000  38.000000   \n",
       "374   xpev  2/23/2021  36.400002  38.040001  32.720001  37.910000  37.910000   \n",
       "375   xpev  2/24/2021  37.830002  39.080002  35.750000  38.709999  38.709999   \n",
       "376   xpev  2/25/2021  38.000000  38.009998  34.750000  35.400002  35.400002   \n",
       "\n",
       "       Volume  \n",
       "252  82219700  \n",
       "253  44847300  \n",
       "254  20816000  \n",
       "255  15291400  \n",
       "256   9090100  \n",
       "..        ...  \n",
       "372  14054100  \n",
       "373  22573900  \n",
       "374  35811800  \n",
       "375  17450100  \n",
       "376  21883800  \n",
       "\n",
       "[125 rows x 8 columns]"
      ]
     },
     "execution_count": 6,
     "metadata": {},
     "output_type": "execute_result"
    }
   ],
   "source": [
    "# filter symbol by nio,xpev,li,tsla respectively\n",
    "xpev = df[df['symbol'] == 'xpev']\n",
    "xpev"
   ]
  },
  {
   "cell_type": "code",
   "execution_count": 7,
   "metadata": {},
   "outputs": [
    {
     "data": {
      "text/html": [
       "<div>\n",
       "<style scoped>\n",
       "    .dataframe tbody tr th:only-of-type {\n",
       "        vertical-align: middle;\n",
       "    }\n",
       "\n",
       "    .dataframe tbody tr th {\n",
       "        vertical-align: top;\n",
       "    }\n",
       "\n",
       "    .dataframe thead th {\n",
       "        text-align: right;\n",
       "    }\n",
       "</style>\n",
       "<table border=\"1\" class=\"dataframe\">\n",
       "  <thead>\n",
       "    <tr style=\"text-align: right;\">\n",
       "      <th></th>\n",
       "      <th>symbol</th>\n",
       "      <th>Date</th>\n",
       "      <th>Open</th>\n",
       "      <th>High</th>\n",
       "      <th>Low</th>\n",
       "      <th>Close</th>\n",
       "      <th>Adj Close</th>\n",
       "      <th>Volume</th>\n",
       "    </tr>\n",
       "  </thead>\n",
       "  <tbody>\n",
       "    <tr>\n",
       "      <th>126</th>\n",
       "      <td>li</td>\n",
       "      <td>8/26/2020</td>\n",
       "      <td>18.990000</td>\n",
       "      <td>24.480000</td>\n",
       "      <td>18.990000</td>\n",
       "      <td>23.379999</td>\n",
       "      <td>23.379999</td>\n",
       "      <td>31561300</td>\n",
       "    </tr>\n",
       "    <tr>\n",
       "      <th>127</th>\n",
       "      <td>li</td>\n",
       "      <td>8/27/2020</td>\n",
       "      <td>22.260000</td>\n",
       "      <td>22.309999</td>\n",
       "      <td>19.299999</td>\n",
       "      <td>19.379999</td>\n",
       "      <td>19.379999</td>\n",
       "      <td>29318200</td>\n",
       "    </tr>\n",
       "    <tr>\n",
       "      <th>128</th>\n",
       "      <td>li</td>\n",
       "      <td>8/28/2020</td>\n",
       "      <td>20.209999</td>\n",
       "      <td>20.500000</td>\n",
       "      <td>17.600000</td>\n",
       "      <td>17.600000</td>\n",
       "      <td>17.600000</td>\n",
       "      <td>14639300</td>\n",
       "    </tr>\n",
       "    <tr>\n",
       "      <th>129</th>\n",
       "      <td>li</td>\n",
       "      <td>8/31/2020</td>\n",
       "      <td>17.759001</td>\n",
       "      <td>18.840000</td>\n",
       "      <td>16.200001</td>\n",
       "      <td>16.299999</td>\n",
       "      <td>16.299999</td>\n",
       "      <td>18322700</td>\n",
       "    </tr>\n",
       "    <tr>\n",
       "      <th>130</th>\n",
       "      <td>li</td>\n",
       "      <td>9/1/2020</td>\n",
       "      <td>17.080000</td>\n",
       "      <td>18.459999</td>\n",
       "      <td>16.700001</td>\n",
       "      <td>18.290001</td>\n",
       "      <td>18.290001</td>\n",
       "      <td>18119400</td>\n",
       "    </tr>\n",
       "    <tr>\n",
       "      <th>...</th>\n",
       "      <td>...</td>\n",
       "      <td>...</td>\n",
       "      <td>...</td>\n",
       "      <td>...</td>\n",
       "      <td>...</td>\n",
       "      <td>...</td>\n",
       "      <td>...</td>\n",
       "      <td>...</td>\n",
       "    </tr>\n",
       "    <tr>\n",
       "      <th>247</th>\n",
       "      <td>li</td>\n",
       "      <td>2/19/2021</td>\n",
       "      <td>29.950001</td>\n",
       "      <td>30.209999</td>\n",
       "      <td>29.450001</td>\n",
       "      <td>29.840000</td>\n",
       "      <td>29.840000</td>\n",
       "      <td>10237400</td>\n",
       "    </tr>\n",
       "    <tr>\n",
       "      <th>248</th>\n",
       "      <td>li</td>\n",
       "      <td>2/22/2021</td>\n",
       "      <td>29.299999</td>\n",
       "      <td>29.410000</td>\n",
       "      <td>27.750000</td>\n",
       "      <td>27.840000</td>\n",
       "      <td>27.840000</td>\n",
       "      <td>14765700</td>\n",
       "    </tr>\n",
       "    <tr>\n",
       "      <th>249</th>\n",
       "      <td>li</td>\n",
       "      <td>2/23/2021</td>\n",
       "      <td>26.450001</td>\n",
       "      <td>27.350000</td>\n",
       "      <td>23.520000</td>\n",
       "      <td>26.990000</td>\n",
       "      <td>26.990000</td>\n",
       "      <td>24590200</td>\n",
       "    </tr>\n",
       "    <tr>\n",
       "      <th>250</th>\n",
       "      <td>li</td>\n",
       "      <td>2/24/2021</td>\n",
       "      <td>27.209999</td>\n",
       "      <td>28.870001</td>\n",
       "      <td>26.100000</td>\n",
       "      <td>28.680000</td>\n",
       "      <td>28.680000</td>\n",
       "      <td>19835000</td>\n",
       "    </tr>\n",
       "    <tr>\n",
       "      <th>251</th>\n",
       "      <td>li</td>\n",
       "      <td>2/25/2021</td>\n",
       "      <td>28.900000</td>\n",
       "      <td>29.010000</td>\n",
       "      <td>25.129999</td>\n",
       "      <td>25.870001</td>\n",
       "      <td>25.870001</td>\n",
       "      <td>36942200</td>\n",
       "    </tr>\n",
       "  </tbody>\n",
       "</table>\n",
       "<p>126 rows × 8 columns</p>\n",
       "</div>"
      ],
      "text/plain": [
       "    symbol       Date       Open       High        Low      Close  Adj Close  \\\n",
       "126     li  8/26/2020  18.990000  24.480000  18.990000  23.379999  23.379999   \n",
       "127     li  8/27/2020  22.260000  22.309999  19.299999  19.379999  19.379999   \n",
       "128     li  8/28/2020  20.209999  20.500000  17.600000  17.600000  17.600000   \n",
       "129     li  8/31/2020  17.759001  18.840000  16.200001  16.299999  16.299999   \n",
       "130     li   9/1/2020  17.080000  18.459999  16.700001  18.290001  18.290001   \n",
       "..     ...        ...        ...        ...        ...        ...        ...   \n",
       "247     li  2/19/2021  29.950001  30.209999  29.450001  29.840000  29.840000   \n",
       "248     li  2/22/2021  29.299999  29.410000  27.750000  27.840000  27.840000   \n",
       "249     li  2/23/2021  26.450001  27.350000  23.520000  26.990000  26.990000   \n",
       "250     li  2/24/2021  27.209999  28.870001  26.100000  28.680000  28.680000   \n",
       "251     li  2/25/2021  28.900000  29.010000  25.129999  25.870001  25.870001   \n",
       "\n",
       "       Volume  \n",
       "126  31561300  \n",
       "127  29318200  \n",
       "128  14639300  \n",
       "129  18322700  \n",
       "130  18119400  \n",
       "..        ...  \n",
       "247  10237400  \n",
       "248  14765700  \n",
       "249  24590200  \n",
       "250  19835000  \n",
       "251  36942200  \n",
       "\n",
       "[126 rows x 8 columns]"
      ]
     },
     "execution_count": 7,
     "metadata": {},
     "output_type": "execute_result"
    }
   ],
   "source": [
    "# filter symbol by nio,xpev,li,tsla respectively\n",
    "li = df[df['symbol'] == 'li']\n",
    "li"
   ]
  },
  {
   "cell_type": "code",
   "execution_count": 8,
   "metadata": {},
   "outputs": [
    {
     "data": {
      "text/html": [
       "<div>\n",
       "<style scoped>\n",
       "    .dataframe tbody tr th:only-of-type {\n",
       "        vertical-align: middle;\n",
       "    }\n",
       "\n",
       "    .dataframe tbody tr th {\n",
       "        vertical-align: top;\n",
       "    }\n",
       "\n",
       "    .dataframe thead th {\n",
       "        text-align: right;\n",
       "    }\n",
       "</style>\n",
       "<table border=\"1\" class=\"dataframe\">\n",
       "  <thead>\n",
       "    <tr style=\"text-align: right;\">\n",
       "      <th></th>\n",
       "      <th>symbol</th>\n",
       "      <th>Date</th>\n",
       "      <th>Open</th>\n",
       "      <th>High</th>\n",
       "      <th>Low</th>\n",
       "      <th>Close</th>\n",
       "      <th>Adj Close</th>\n",
       "      <th>Volume</th>\n",
       "    </tr>\n",
       "  </thead>\n",
       "  <tbody>\n",
       "    <tr>\n",
       "      <th>377</th>\n",
       "      <td>tsla</td>\n",
       "      <td>8/26/2020</td>\n",
       "      <td>412.000000</td>\n",
       "      <td>433.200012</td>\n",
       "      <td>410.726013</td>\n",
       "      <td>430.634003</td>\n",
       "      <td>430.634003</td>\n",
       "      <td>71197000</td>\n",
       "    </tr>\n",
       "    <tr>\n",
       "      <th>378</th>\n",
       "      <td>tsla</td>\n",
       "      <td>8/27/2020</td>\n",
       "      <td>436.092010</td>\n",
       "      <td>459.119995</td>\n",
       "      <td>428.500000</td>\n",
       "      <td>447.750000</td>\n",
       "      <td>447.750000</td>\n",
       "      <td>118465000</td>\n",
       "    </tr>\n",
       "    <tr>\n",
       "      <th>379</th>\n",
       "      <td>tsla</td>\n",
       "      <td>8/28/2020</td>\n",
       "      <td>459.023987</td>\n",
       "      <td>463.697998</td>\n",
       "      <td>437.303986</td>\n",
       "      <td>442.679993</td>\n",
       "      <td>442.679993</td>\n",
       "      <td>100406000</td>\n",
       "    </tr>\n",
       "    <tr>\n",
       "      <th>380</th>\n",
       "      <td>tsla</td>\n",
       "      <td>8/31/2020</td>\n",
       "      <td>444.609985</td>\n",
       "      <td>500.140015</td>\n",
       "      <td>440.109985</td>\n",
       "      <td>498.320007</td>\n",
       "      <td>498.320007</td>\n",
       "      <td>118374400</td>\n",
       "    </tr>\n",
       "    <tr>\n",
       "      <th>381</th>\n",
       "      <td>tsla</td>\n",
       "      <td>9/1/2020</td>\n",
       "      <td>502.140015</td>\n",
       "      <td>502.489990</td>\n",
       "      <td>470.510010</td>\n",
       "      <td>475.049988</td>\n",
       "      <td>475.049988</td>\n",
       "      <td>90119400</td>\n",
       "    </tr>\n",
       "    <tr>\n",
       "      <th>...</th>\n",
       "      <td>...</td>\n",
       "      <td>...</td>\n",
       "      <td>...</td>\n",
       "      <td>...</td>\n",
       "      <td>...</td>\n",
       "      <td>...</td>\n",
       "      <td>...</td>\n",
       "      <td>...</td>\n",
       "    </tr>\n",
       "    <tr>\n",
       "      <th>498</th>\n",
       "      <td>tsla</td>\n",
       "      <td>2/19/2021</td>\n",
       "      <td>795.000000</td>\n",
       "      <td>796.789978</td>\n",
       "      <td>777.369995</td>\n",
       "      <td>781.299988</td>\n",
       "      <td>781.299988</td>\n",
       "      <td>18904800</td>\n",
       "    </tr>\n",
       "    <tr>\n",
       "      <th>499</th>\n",
       "      <td>tsla</td>\n",
       "      <td>2/22/2021</td>\n",
       "      <td>762.640015</td>\n",
       "      <td>768.500000</td>\n",
       "      <td>710.200012</td>\n",
       "      <td>714.500000</td>\n",
       "      <td>714.500000</td>\n",
       "      <td>37011700</td>\n",
       "    </tr>\n",
       "    <tr>\n",
       "      <th>500</th>\n",
       "      <td>tsla</td>\n",
       "      <td>2/23/2021</td>\n",
       "      <td>662.130005</td>\n",
       "      <td>713.609985</td>\n",
       "      <td>619.000000</td>\n",
       "      <td>698.840027</td>\n",
       "      <td>698.840027</td>\n",
       "      <td>66397000</td>\n",
       "    </tr>\n",
       "    <tr>\n",
       "      <th>501</th>\n",
       "      <td>tsla</td>\n",
       "      <td>2/24/2021</td>\n",
       "      <td>711.849976</td>\n",
       "      <td>745.000000</td>\n",
       "      <td>694.169983</td>\n",
       "      <td>742.020020</td>\n",
       "      <td>742.020020</td>\n",
       "      <td>36677100</td>\n",
       "    </tr>\n",
       "    <tr>\n",
       "      <th>502</th>\n",
       "      <td>tsla</td>\n",
       "      <td>2/25/2021</td>\n",
       "      <td>726.150024</td>\n",
       "      <td>737.210022</td>\n",
       "      <td>670.580017</td>\n",
       "      <td>682.219971</td>\n",
       "      <td>682.219971</td>\n",
       "      <td>38619900</td>\n",
       "    </tr>\n",
       "  </tbody>\n",
       "</table>\n",
       "<p>126 rows × 8 columns</p>\n",
       "</div>"
      ],
      "text/plain": [
       "    symbol       Date        Open        High         Low       Close  \\\n",
       "377   tsla  8/26/2020  412.000000  433.200012  410.726013  430.634003   \n",
       "378   tsla  8/27/2020  436.092010  459.119995  428.500000  447.750000   \n",
       "379   tsla  8/28/2020  459.023987  463.697998  437.303986  442.679993   \n",
       "380   tsla  8/31/2020  444.609985  500.140015  440.109985  498.320007   \n",
       "381   tsla   9/1/2020  502.140015  502.489990  470.510010  475.049988   \n",
       "..     ...        ...         ...         ...         ...         ...   \n",
       "498   tsla  2/19/2021  795.000000  796.789978  777.369995  781.299988   \n",
       "499   tsla  2/22/2021  762.640015  768.500000  710.200012  714.500000   \n",
       "500   tsla  2/23/2021  662.130005  713.609985  619.000000  698.840027   \n",
       "501   tsla  2/24/2021  711.849976  745.000000  694.169983  742.020020   \n",
       "502   tsla  2/25/2021  726.150024  737.210022  670.580017  682.219971   \n",
       "\n",
       "      Adj Close     Volume  \n",
       "377  430.634003   71197000  \n",
       "378  447.750000  118465000  \n",
       "379  442.679993  100406000  \n",
       "380  498.320007  118374400  \n",
       "381  475.049988   90119400  \n",
       "..          ...        ...  \n",
       "498  781.299988   18904800  \n",
       "499  714.500000   37011700  \n",
       "500  698.840027   66397000  \n",
       "501  742.020020   36677100  \n",
       "502  682.219971   38619900  \n",
       "\n",
       "[126 rows x 8 columns]"
      ]
     },
     "execution_count": 8,
     "metadata": {},
     "output_type": "execute_result"
    }
   ],
   "source": [
    "# filter symbol by nio,xpev,li,tsla respectively\n",
    "tsla = df[df['symbol'] == 'tsla']\n",
    "tsla"
   ]
  },
  {
   "cell_type": "markdown",
   "metadata": {},
   "source": [
    "## Part 3: Exploratory Data Analysis"
   ]
  },
  {
   "cell_type": "code",
   "execution_count": 9,
   "metadata": {},
   "outputs": [
    {
     "data": {
      "text/html": [
       "<div>\n",
       "<style scoped>\n",
       "    .dataframe tbody tr th:only-of-type {\n",
       "        vertical-align: middle;\n",
       "    }\n",
       "\n",
       "    .dataframe tbody tr th {\n",
       "        vertical-align: top;\n",
       "    }\n",
       "\n",
       "    .dataframe thead th {\n",
       "        text-align: right;\n",
       "    }\n",
       "</style>\n",
       "<table border=\"1\" class=\"dataframe\">\n",
       "  <thead>\n",
       "    <tr style=\"text-align: right;\">\n",
       "      <th></th>\n",
       "      <th>count</th>\n",
       "      <th>mean</th>\n",
       "      <th>std</th>\n",
       "      <th>min</th>\n",
       "      <th>25%</th>\n",
       "      <th>50%</th>\n",
       "      <th>75%</th>\n",
       "      <th>max</th>\n",
       "    </tr>\n",
       "  </thead>\n",
       "  <tbody>\n",
       "    <tr>\n",
       "      <th>Open</th>\n",
       "      <td>503.0</td>\n",
       "      <td>1.715406e+02</td>\n",
       "      <td>2.528627e+02</td>\n",
       "      <td>15.35</td>\n",
       "      <td>2.247500e+01</td>\n",
       "      <td>4.248000e+01</td>\n",
       "      <td>2.140850e+02</td>\n",
       "      <td>8.913800e+02</td>\n",
       "    </tr>\n",
       "    <tr>\n",
       "      <th>High</th>\n",
       "      <td>503.0</td>\n",
       "      <td>1.760322e+02</td>\n",
       "      <td>2.583346e+02</td>\n",
       "      <td>15.97</td>\n",
       "      <td>2.320000e+01</td>\n",
       "      <td>4.508000e+01</td>\n",
       "      <td>2.216150e+02</td>\n",
       "      <td>9.004000e+02</td>\n",
       "    </tr>\n",
       "    <tr>\n",
       "      <th>Low</th>\n",
       "      <td>503.0</td>\n",
       "      <td>1.665751e+02</td>\n",
       "      <td>2.468626e+02</td>\n",
       "      <td>15.02</td>\n",
       "      <td>2.132000e+01</td>\n",
       "      <td>4.110000e+01</td>\n",
       "      <td>1.964450e+02</td>\n",
       "      <td>8.716000e+02</td>\n",
       "    </tr>\n",
       "    <tr>\n",
       "      <th>Close</th>\n",
       "      <td>503.0</td>\n",
       "      <td>1.718023e+02</td>\n",
       "      <td>2.534649e+02</td>\n",
       "      <td>15.09</td>\n",
       "      <td>2.218500e+01</td>\n",
       "      <td>4.341000e+01</td>\n",
       "      <td>2.011900e+02</td>\n",
       "      <td>8.830900e+02</td>\n",
       "    </tr>\n",
       "    <tr>\n",
       "      <th>Adj Close</th>\n",
       "      <td>503.0</td>\n",
       "      <td>1.718023e+02</td>\n",
       "      <td>2.534649e+02</td>\n",
       "      <td>15.09</td>\n",
       "      <td>2.218500e+01</td>\n",
       "      <td>4.341000e+01</td>\n",
       "      <td>2.011900e+02</td>\n",
       "      <td>8.830900e+02</td>\n",
       "    </tr>\n",
       "    <tr>\n",
       "      <th>Volume</th>\n",
       "      <td>503.0</td>\n",
       "      <td>5.855279e+07</td>\n",
       "      <td>7.055637e+07</td>\n",
       "      <td>2789400.00</td>\n",
       "      <td>1.621480e+07</td>\n",
       "      <td>3.291190e+07</td>\n",
       "      <td>7.284430e+07</td>\n",
       "      <td>5.771851e+08</td>\n",
       "    </tr>\n",
       "  </tbody>\n",
       "</table>\n",
       "</div>"
      ],
      "text/plain": [
       "           count          mean           std         min           25%  \\\n",
       "Open       503.0  1.715406e+02  2.528627e+02       15.35  2.247500e+01   \n",
       "High       503.0  1.760322e+02  2.583346e+02       15.97  2.320000e+01   \n",
       "Low        503.0  1.665751e+02  2.468626e+02       15.02  2.132000e+01   \n",
       "Close      503.0  1.718023e+02  2.534649e+02       15.09  2.218500e+01   \n",
       "Adj Close  503.0  1.718023e+02  2.534649e+02       15.09  2.218500e+01   \n",
       "Volume     503.0  5.855279e+07  7.055637e+07  2789400.00  1.621480e+07   \n",
       "\n",
       "                    50%           75%           max  \n",
       "Open       4.248000e+01  2.140850e+02  8.913800e+02  \n",
       "High       4.508000e+01  2.216150e+02  9.004000e+02  \n",
       "Low        4.110000e+01  1.964450e+02  8.716000e+02  \n",
       "Close      4.341000e+01  2.011900e+02  8.830900e+02  \n",
       "Adj Close  4.341000e+01  2.011900e+02  8.830900e+02  \n",
       "Volume     3.291190e+07  7.284430e+07  5.771851e+08  "
      ]
     },
     "execution_count": 9,
     "metadata": {},
     "output_type": "execute_result"
    }
   ],
   "source": [
    "## Provide summary statistics for each attribute\n",
    "df.describe().T"
   ]
  },
  {
   "cell_type": "markdown",
   "metadata": {},
   "source": [
    "## Attribute:Close "
   ]
  },
  {
   "cell_type": "markdown",
   "metadata": {},
   "source": [
    "Close is the standard benchmark used by investors to track its performance over time,and it is most important attribute in Open, High, Low, Close.\n",
    "Close can be used to measure the changes in market sentiment towards that stock."
   ]
  },
  {
   "cell_type": "code",
   "execution_count": 10,
   "metadata": {},
   "outputs": [
    {
     "data": {
      "image/png": "[encoded data removed]",
      "text/plain": [
       "<Figure size 432x288 with 1 Axes>"
      ]
     },
     "metadata": {
      "needs_background": "light"
     },
     "output_type": "display_data"
    },
    {
     "data": {
      "text/plain": [
       "count    126.000000\n",
       "mean     582.778047\n",
       "std      173.928557\n",
       "min      330.209991\n",
       "25%      424.342507\n",
       "50%      538.614990\n",
       "75%      740.292511\n",
       "max      883.090027\n",
       "Name: Close, dtype: float64"
      ]
     },
     "execution_count": 10,
     "metadata": {},
     "output_type": "execute_result"
    },
    {
     "data": {
      "image/png": "[encoded data removed]",
      "text/plain": [
       "<Figure size 432x288 with 1 Axes>"
      ]
     },
     "metadata": {
      "needs_background": "light"
     },
     "output_type": "display_data"
    }
   ],
   "source": [
    "import matplotlib.pyplot as plt\n",
    "import matplotlib.ticker as ticker\n",
    "import seaborn as sns\n",
    "# track the trend of telsa stock price\n",
    "#filter 'date' and 'close'\n",
    "# assign 'date' to axis-x 'close' to axis-y\n",
    "# matplotlib\n",
    "x =tsla['Date']\n",
    "y =tsla['Close']\n",
    "tick_spacing = 1\n",
    "tick_spacing = 25\n",
    "fig, ax = plt.subplots(1,1)\n",
    "ax.plot(x,y)\n",
    "ax.xaxis.set_major_locator(ticker.MultipleLocator(tick_spacing))\n",
    "plt.xlabel('tesla')\n",
    "plt.ylabel('price')\n",
    "plt.title('The tesla stock price')\n",
    "plt.show()\n",
    "#seaborn\n",
    "tick_spacing = 1\n",
    "tick_spacing = 25\n",
    "fig, ax = plt.subplots(1,1)\n",
    "ax.plot(x,y)\n",
    "ax.xaxis.set_major_locator(ticker.MultipleLocator(tick_spacing))\n",
    "plt.xlabel('tesla')\n",
    "plt.ylabel('price')\n",
    "plt.title('The tesla stock price')\n",
    "sns.lineplot(x = tsla['Date'], y = tsla['Close'])\n",
    "\n",
    "tsla['Close'].describe()"
   ]
  },
  {
   "cell_type": "code",
   "execution_count": 11,
   "metadata": {},
   "outputs": [
    {
     "data": {
      "image/png": "[encoded data removed]",
      "text/plain": [
       "<Figure size 432x288 with 1 Axes>"
      ]
     },
     "metadata": {
      "needs_background": "light"
     },
     "output_type": "display_data"
    },
    {
     "data": {
      "text/plain": [
       "count    126.000000\n",
       "mean      26.681270\n",
       "std        7.503629\n",
       "min       15.090000\n",
       "25%       18.762501\n",
       "50%       29.189999\n",
       "75%       32.122502\n",
       "max       43.959999\n",
       "Name: Close, dtype: float64"
      ]
     },
     "execution_count": 11,
     "metadata": {},
     "output_type": "execute_result"
    },
    {
     "data": {
      "image/png": "[encoded data removed]",
      "text/plain": [
       "<Figure size 432x288 with 1 Axes>"
      ]
     },
     "metadata": {
      "needs_background": "light"
     },
     "output_type": "display_data"
    }
   ],
   "source": [
    "# track the trend of li stock price\n",
    "#filter 'date' and 'close'\n",
    "# assign 'date' to axis-x 'close' to axis-y\n",
    "# matplotlib\n",
    "x =li['Date']\n",
    "y =li['Close']\n",
    "tick_spacing = 1\n",
    "tick_spacing = 25\n",
    "fig, ax = plt.subplots(1,1)\n",
    "ax.plot(x,y)\n",
    "ax.xaxis.set_major_locator(ticker.MultipleLocator(tick_spacing))\n",
    "plt.xlabel('li')\n",
    "plt.ylabel('price')\n",
    "plt.title('The li stock price')\n",
    "plt.show()\n",
    "#seaborn\n",
    "tick_spacing = 1\n",
    "tick_spacing = 25\n",
    "fig, ax = plt.subplots(1,1)\n",
    "ax.plot(x,y)\n",
    "ax.xaxis.set_major_locator(ticker.MultipleLocator(tick_spacing))\n",
    "plt.xlabel('li')\n",
    "plt.ylabel('price')\n",
    "plt.title('The li stock price')\n",
    "sns.lineplot(x = li['Date'], y = li['Close'])\n",
    "\n",
    "li['Close'].describe()"
   ]
  },
  {
   "cell_type": "code",
   "execution_count": 12,
   "metadata": {},
   "outputs": [
    {
     "data": {
      "image/png": "[encoded data removed]",
      "text/plain": [
       "<Figure size 432x288 with 1 Axes>"
      ]
     },
     "metadata": {
      "needs_background": "light"
     },
     "output_type": "display_data"
    },
    {
     "data": {
      "text/plain": [
       "count    126.000000\n",
       "mean      40.209603\n",
       "std       15.413564\n",
       "min       17.030001\n",
       "25%       21.655001\n",
       "50%       44.864999\n",
       "75%       53.922500\n",
       "max       62.840000\n",
       "Name: Close, dtype: float64"
      ]
     },
     "execution_count": 12,
     "metadata": {},
     "output_type": "execute_result"
    },
    {
     "data": {
      "image/png": "[encoded data removed]",
      "text/plain": [
       "<Figure size 432x288 with 1 Axes>"
      ]
     },
     "metadata": {
      "needs_background": "light"
     },
     "output_type": "display_data"
    }
   ],
   "source": [
    "# track the trend of nio stock price\n",
    "#filter 'date' and 'close'\n",
    "# assign 'date' to axis-x 'close' to axis-y\n",
    "# matplotlib\n",
    "x =nio['Date']\n",
    "y =nio['Close']\n",
    "tick_spacing = 1\n",
    "tick_spacing = 25\n",
    "fig, ax = plt.subplots(1,1)\n",
    "ax.plot(x,y)\n",
    "ax.xaxis.set_major_locator(ticker.MultipleLocator(tick_spacing))\n",
    "plt.xlabel('nio')\n",
    "plt.ylabel('price')\n",
    "plt.title('The nio stock price')\n",
    "plt.show()\n",
    "#seaborn\n",
    "tick_spacing = 1\n",
    "tick_spacing = 25\n",
    "fig, ax = plt.subplots(1,1)\n",
    "ax.plot(x,y)\n",
    "ax.xaxis.set_major_locator(ticker.MultipleLocator(tick_spacing))\n",
    "plt.xlabel('nio')\n",
    "plt.ylabel('price')\n",
    "plt.title('The nio stock price')\n",
    "sns.lineplot(x = nio['Date'], y = nio['Close'])\n",
    "\n",
    "nio['Close'].describe()"
   ]
  },
  {
   "cell_type": "code",
   "execution_count": 13,
   "metadata": {},
   "outputs": [
    {
     "data": {
      "image/png": "[encoded data removed]",
      "text/plain": [
       "<Figure size 432x288 with 1 Axes>"
      ]
     },
     "metadata": {
      "needs_background": "light"
     },
     "output_type": "display_data"
    },
    {
     "data": {
      "text/plain": [
       "count    125.000000\n",
       "mean      36.466000\n",
       "std       14.507761\n",
       "min       17.450001\n",
       "25%       20.139999\n",
       "50%       41.549999\n",
       "75%       47.610001\n",
       "max       72.169998\n",
       "Name: Close, dtype: float64"
      ]
     },
     "execution_count": 13,
     "metadata": {},
     "output_type": "execute_result"
    },
    {
     "data": {
      "image/png": "[encoded data removed]",
      "text/plain": [
       "<Figure size 432x288 with 1 Axes>"
      ]
     },
     "metadata": {
      "needs_background": "light"
     },
     "output_type": "display_data"
    }
   ],
   "source": [
    "# track the trend of xpev stock price\n",
    "#filter 'date' and 'close'\n",
    "# assign 'date' to axis-x 'close' to axis-y\n",
    "# matplotlib\n",
    "x =xpev['Date']\n",
    "y =xpev['Close']\n",
    "tick_spacing = 1\n",
    "tick_spacing = 25\n",
    "fig, ax = plt.subplots(1,1)\n",
    "ax.plot(x,y)\n",
    "ax.xaxis.set_major_locator(ticker.MultipleLocator(tick_spacing))\n",
    "plt.xlabel('xpev')\n",
    "plt.ylabel('price')\n",
    "plt.title('The xpev stock price')\n",
    "plt.show()\n",
    "#seaborn\n",
    "tick_spacing = 1\n",
    "tick_spacing = 25\n",
    "fig, ax = plt.subplots(1,1)\n",
    "ax.plot(x,y)\n",
    "ax.xaxis.set_major_locator(ticker.MultipleLocator(tick_spacing))\n",
    "plt.xlabel('xpev')\n",
    "plt.ylabel('price')\n",
    "plt.title('The xpev stock price')\n",
    "sns.lineplot(x = xpev['Date'], y = xpev['Close'])\n",
    "\n",
    "xpev['Close'].describe()"
   ]
  },
  {
   "cell_type": "markdown",
   "metadata": {},
   "source": [
    "Narrative describe: From the chart, we can see that the stock prices of Xiaopeng and Li are very similar. At the end of last year, the xpev prices and li stock prices reached a peak, and then the prices are falling sharply.The stock prices of nio and tesla are very similar. Both of them showed a steady upward trend."
   ]
  },
  {
   "cell_type": "markdown",
   "metadata": {},
   "source": [
    "## Attribute: Volume"
   ]
  },
  {
   "cell_type": "markdown",
   "metadata": {},
   "source": [
    "Trading volume is a meaure of how much of a given financial asset  traded in a period of time. so we want to give deeply insight into the attribute of Volume."
   ]
  },
  {
   "cell_type": "code",
   "execution_count": 14,
   "metadata": {},
   "outputs": [
    {
     "name": "stdout",
     "output_type": "stream",
     "text": [
      "nio：the arithmetic average volume is 140443319.84126985\n",
      "xpev：the arithmetic average volume is 24031272.8\n",
      "li：the arithmetic average volume is 20695414.285714287\n",
      "tsla：the arithmetic average volume is 48767184.92063492\n"
     ]
    }
   ],
   "source": [
    "# compare the average volume of stocks \n",
    "\n",
    "a = nio['Volume'].describe()['mean']\n",
    "print(\"nio：the arithmetic average volume is\",a )\n",
    "b = xpev['Volume'].describe()['mean']\n",
    "print(\"xpev：the arithmetic average volume is\",b )\n",
    "c = li['Volume'].describe()['mean']\n",
    "print(\"li：the arithmetic average volume is\",c )\n",
    "d = tsla['Volume'].describe()['mean']\n",
    "print(\"tsla：the arithmetic average volume is\",d )"
   ]
  },
  {
   "cell_type": "code",
   "execution_count": 15,
   "metadata": {},
   "outputs": [
    {
     "data": {
      "text/plain": [
       "{'nio': 140443319.84126985,\n",
       " 'xpev': 24031272.8,\n",
       " 'li': 20695414.285714287,\n",
       " 'tsla': 48767184.92063492}"
      ]
     },
     "execution_count": 15,
     "metadata": {},
     "output_type": "execute_result"
    }
   ],
   "source": [
    "# Create a data dictionary \n",
    "data = {'nio':a,'xpev':b,'li':c,'tsla':d}\n",
    "data"
   ]
  },
  {
   "cell_type": "code",
   "execution_count": 16,
   "metadata": {},
   "outputs": [
    {
     "data": {
      "image/png": "[encoded data removed]",
      "text/plain": [
       "<Figure size 432x288 with 1 Axes>"
      ]
     },
     "metadata": {
      "needs_background": "light"
     },
     "output_type": "display_data"
    }
   ],
   "source": [
    "# Matplotlib\n",
    "plt.bar(range(len(data)),data.values(),align='center')\n",
    "plt.xticks(range(len(data)),list(data.keys()))\n",
    "plt.xlabel('tickers')\n",
    "plt.ylabel('Volume')\n",
    "plt.title('The stock Volume Comparison')\n",
    "plt.show()"
   ]
  },
  {
   "cell_type": "code",
   "execution_count": 17,
   "metadata": {},
   "outputs": [
    {
     "data": {
      "text/plain": [
       "<AxesSubplot:title={'center':'The stock Volume Comparison'}, xlabel='tickers', ylabel='Volume'>"
      ]
     },
     "execution_count": 17,
     "metadata": {},
     "output_type": "execute_result"
    },
    {
     "data": {
      "image/png": "[encoded data removed]",
      "text/plain": [
       "<Figure size 432x288 with 1 Axes>"
      ]
     },
     "metadata": {
      "needs_background": "light"
     },
     "output_type": "display_data"
    }
   ],
   "source": [
    "#seaborn\n",
    "keys = list(data.keys())\n",
    "vals = list(data.values())\n",
    "plt.xlabel('tickers')\n",
    "plt.ylabel('Volume')\n",
    "plt.title('The stock Volume Comparison')\n",
    "sns.barplot(x=keys,y=vals)"
   ]
  },
  {
   "cell_type": "markdown",
   "metadata": {},
   "source": [
    "Narrative describe: The nio stock has the highest volume among four stock. It represents that nio attracts more attention of investors during the six months. The tsla volume is in the second place. The volume of nio is twice that of tsla."
   ]
  },
  {
   "cell_type": "markdown",
   "metadata": {},
   "source": [
    "# Part 4:Inference"
   ]
  },
  {
   "cell_type": "markdown",
   "metadata": {},
   "source": [
    "# Question1: Calculate the six-months return of each stock. Which stock has the highest return and which stock has the lowest return during the six month?"
   ]
  },
  {
   "cell_type": "markdown",
   "metadata": {},
   "source": [
    "Approach: We use log return to calculate the return of each stock. Log return is one of three methods for calculating return and it assumes returns are compounded continuously rather than across sub-periods. It is calculated by taking the natural log of the ending value divided by the beginning value.\n",
    "    \n",
    "    1.Using .shift() to find daily returns.\n",
    "   \n",
    "    2.Using .mean() to find average of daily returns for each stock.\n",
    "    \n",
    "    3.Compare four stocks and tell apart which has the highest return."
   ]
  },
  {
   "cell_type": "code",
   "execution_count": 18,
   "metadata": {},
   "outputs": [
    {
     "name": "stdout",
     "output_type": "stream",
     "text": [
      "nio: 180 days return is 119.32000000000001%\n",
      "xpev: 180 days return is 74.29%\n",
      "li: 180 days return is 14.57%\n",
      "tesla: 180 days return is 66.25%\n"
     ]
    }
   ],
   "source": [
    "# create function re(x)\n",
    "\n",
    "def re(x):\n",
    "    logreturn = np.log(x['Adj Close'] / x['Adj Close'].shift(1))\n",
    "    log_return_d = logreturn.mean()\n",
    "    return log_return_d \n",
    "print(\"nio: 180 days return is\",str(round(re(nio) * 180,4) * 100) +'%')\n",
    "print(\"xpev: 180 days return is\",str(round(re(xpev) * 180,4) * 100) +'%')\n",
    "print(\"li: 180 days return is\",str(round(re(li) * 180,4) * 100) +'%')\n",
    "print(\"tesla: 180 days return is\",str(round(re(tsla) * 180,4) * 100) +'%')"
   ]
  },
  {
   "cell_type": "code",
   "execution_count": 19,
   "metadata": {},
   "outputs": [
    {
     "data": {
      "image/png": "[encoded data removed]",
      "text/plain": [
       "<Figure size 432x288 with 1 Axes>"
      ]
     },
     "metadata": {
      "needs_background": "light"
     },
     "output_type": "display_data"
    }
   ],
   "source": [
    "# Matplotlib\n",
    "log_return = {'nio':119.32,'xpev':74.29,'li':14.57,'tesla':66.25}\n",
    "plt.bar(range(len(log_return)),log_return.values(),align='center')\n",
    "plt.xticks(range(len(log_return)),list(log_return.keys()))\n",
    "plt.xlabel('tickers')\n",
    "plt.ylabel('returns%')\n",
    "plt.title('The Stock six month-return Comparison')\n",
    "plt.show()\n"
   ]
  },
  {
   "cell_type": "code",
   "execution_count": 20,
   "metadata": {},
   "outputs": [
    {
     "data": {
      "text/plain": [
       "<AxesSubplot:title={'center':'The Stock six month-return Comparison'}, xlabel='tickers', ylabel='returns%'>"
      ]
     },
     "execution_count": 20,
     "metadata": {},
     "output_type": "execute_result"
    },
    {
     "data": {
      "image/png": "[encoded data removed]",
      "text/plain": [
       "<Figure size 432x288 with 1 Axes>"
      ]
     },
     "metadata": {
      "needs_background": "light"
     },
     "output_type": "display_data"
    }
   ],
   "source": [
    "#seaborn\n",
    "keys = list(log_return.keys())\n",
    "vals = list(log_return.values())\n",
    "plt.xlabel('tickers')\n",
    "plt.ylabel('returns%')\n",
    "plt.title('The Stock six month-return Comparison')\n",
    "sns.barplot(x=keys,y=vals)"
   ]
  },
  {
   "cell_type": "markdown",
   "metadata": {},
   "source": [
    "Narrative describe: Nio has the highest return and li has the lowest return during the six months"
   ]
  },
  {
   "cell_type": "markdown",
   "metadata": {},
   "source": [
    "# Question 2 : Stock risk analysis: Which stock has the most volatility?"
   ]
  },
  {
   "cell_type": "markdown",
   "metadata": {},
   "source": [
    "Research approach: Standard deviation sheds light on investment's historical volatility. Normally, a volatile stock has a high standard deviation. A higher standard deviation, a higher risk the stock has. So we consider .std() as our way to answer the question.\n",
    "1.Using std function to find the daily returns std of four stocks.\n",
    "\n",
    "2.Using the bar chart to compare the daily returns std of four stocks."
   ]
  },
  {
   "cell_type": "code",
   "execution_count": 21,
   "metadata": {},
   "outputs": [
    {
     "name": "stdout",
     "output_type": "stream",
     "text": [
      "0.04711259921112519\n"
     ]
    }
   ],
   "source": [
    "#Using pct_change() to find daily returns\n",
    "tsla_daily_returns = tsla['Adj Close'].pct_change()\n",
    "#find tesla dayily return standard deviation\n",
    "tsla_daily_returns_std = tsla_daily_returns.std()\n",
    "print(tsla_daily_returns_std)"
   ]
  },
  {
   "cell_type": "code",
   "execution_count": 22,
   "metadata": {},
   "outputs": [
    {
     "name": "stdout",
     "output_type": "stream",
     "text": [
      "0.0533865074023658\n"
     ]
    }
   ],
   "source": [
    "#Using pct_change() to find daily returns\n",
    "nio_daily_returns = nio['Adj Close'].pct_change()\n",
    "#find nio dayily return standard deviation\n",
    "nio_daily_returns_std = nio_daily_returns.std()\n",
    "print(nio_daily_returns_std)"
   ]
  },
  {
   "cell_type": "code",
   "execution_count": 23,
   "metadata": {},
   "outputs": [
    {
     "name": "stdout",
     "output_type": "stream",
     "text": [
      "0.07781210307564378\n"
     ]
    }
   ],
   "source": [
    "#Using pct_change() to find daily returns\n",
    "xpev_daily_returns = xpev['Adj Close'].pct_change()\n",
    "#find xpev dayily return standard deviation\n",
    "xpev_daily_returns_std = xpev_daily_returns.std()\n",
    "print(xpev_daily_returns_std)"
   ]
  },
  {
   "cell_type": "code",
   "execution_count": 24,
   "metadata": {},
   "outputs": [
    {
     "name": "stdout",
     "output_type": "stream",
     "text": [
      "0.05903670257176465\n"
     ]
    }
   ],
   "source": [
    "#Using pct_change() to find daily returns\n",
    "li_daily_returns = li['Adj Close'].pct_change()\n",
    "#find xpev dayily return standard deviation\n",
    "li_daily_returns_std = li_daily_returns.std()\n",
    "print(li_daily_returns_std)"
   ]
  },
  {
   "cell_type": "code",
   "execution_count": 25,
   "metadata": {},
   "outputs": [
    {
     "data": {
      "image/png": "[encoded data removed]",
      "text/plain": [
       "<Figure size 432x288 with 1 Axes>"
      ]
     },
     "metadata": {
      "needs_background": "light"
     },
     "output_type": "display_data"
    }
   ],
   "source": [
    "# Using the bar chart to compare the daily returns std of four stocks.\n",
    "\n",
    "x = ['tsla_DR_std', 'li_DR_std', 'nio_DR_std', 'xpev_DR_std']\n",
    "y = [0.04711259921112519,0.05903670257176465,0.0533865074023658,0.07781210307564378]\n",
    "# matplot\n",
    "plt.bar(x, y)\n",
    "plt.ylabel('standard deviation')\n",
    "plt.xlabel('ticker') \n",
    "plt.title('Stock Daily Returns Std')\n",
    "plt.show()"
   ]
  },
  {
   "cell_type": "code",
   "execution_count": 26,
   "metadata": {},
   "outputs": [
    {
     "name": "stderr",
     "output_type": "stream",
     "text": [
      "C:\\Users\\zhous\\anaconda3\\lib\\site-packages\\seaborn\\_decorators.py:36: FutureWarning: Pass the following variables as keyword args: x, y. From version 0.12, the only valid positional argument will be `data`, and passing other arguments without an explicit keyword will result in an error or misinterpretation.\n",
      "  warnings.warn(\n"
     ]
    },
    {
     "data": {
      "text/plain": [
       "<AxesSubplot:title={'center':'Stock Daily Returns Std'}, xlabel='ticker', ylabel='standard deviation'>"
      ]
     },
     "execution_count": 26,
     "metadata": {},
     "output_type": "execute_result"
    },
    {
     "data": {
      "image/png": "[encoded data removed]",
      "text/plain": [
       "<Figure size 432x288 with 1 Axes>"
      ]
     },
     "metadata": {
      "needs_background": "light"
     },
     "output_type": "display_data"
    }
   ],
   "source": [
    "# seaborn\n",
    "plt.ylabel('standard deviation')\n",
    "plt.xlabel('ticker') \n",
    "plt.title('Stock Daily Returns Std')\n",
    "sns.barplot(x, y)"
   ]
  },
  {
   "cell_type": "markdown",
   "metadata": {},
   "source": [
    "Narrative describe: For these four stocks, xpev has the highest daily returns std and tsla has the lowest daily returns std.\n",
    "For the risk: xpev > li > nio > tsla"
   ]
  },
  {
   "cell_type": "markdown",
   "metadata": {},
   "source": [
    "# Question 3: Are the prices of these four stocks highly positively correlated?"
   ]
  },
  {
   "cell_type": "markdown",
   "metadata": {},
   "source": [
    "Research approach: We believe that it is necessary to understand the correlation and dependency between stocks. For the portfolio mananger, the higher the correlation coefficient between stocks, the more he has to avoid heavy holdings of those stocks. He must reasonably allocate his stock positions to ensure the security of his account.\n",
    "\n",
    "1: In the dataset, we consider date and Adj Close as parameters and filter them in nio.dataframe,tsla.dataframe,xpev.dataframe,\n",
    "li.dataframe.\n",
    "\n",
    "2: Using pd.merge() to combine them as a unique dataframe for conveniently moving to next step.\n",
    "\n",
    "3: Dataframe has .corr(). It can help to deal with the correlation among those four stocks."
   ]
  },
  {
   "cell_type": "code",
   "execution_count": 27,
   "metadata": {},
   "outputs": [
    {
     "data": {
      "text/html": [
       "<div>\n",
       "<style scoped>\n",
       "    .dataframe tbody tr th:only-of-type {\n",
       "        vertical-align: middle;\n",
       "    }\n",
       "\n",
       "    .dataframe tbody tr th {\n",
       "        vertical-align: top;\n",
       "    }\n",
       "\n",
       "    .dataframe thead th {\n",
       "        text-align: right;\n",
       "    }\n",
       "</style>\n",
       "<table border=\"1\" class=\"dataframe\">\n",
       "  <thead>\n",
       "    <tr style=\"text-align: right;\">\n",
       "      <th></th>\n",
       "      <th>Date</th>\n",
       "      <th>Adj Close</th>\n",
       "    </tr>\n",
       "  </thead>\n",
       "  <tbody>\n",
       "    <tr>\n",
       "      <th>0</th>\n",
       "      <td>8/26/2020</td>\n",
       "      <td>20.440001</td>\n",
       "    </tr>\n",
       "    <tr>\n",
       "      <th>1</th>\n",
       "      <td>8/27/2020</td>\n",
       "      <td>19.879999</td>\n",
       "    </tr>\n",
       "    <tr>\n",
       "      <th>2</th>\n",
       "      <td>8/28/2020</td>\n",
       "      <td>18.500000</td>\n",
       "    </tr>\n",
       "    <tr>\n",
       "      <th>3</th>\n",
       "      <td>8/31/2020</td>\n",
       "      <td>19.030001</td>\n",
       "    </tr>\n",
       "    <tr>\n",
       "      <th>4</th>\n",
       "      <td>9/1/2020</td>\n",
       "      <td>20.120001</td>\n",
       "    </tr>\n",
       "    <tr>\n",
       "      <th>...</th>\n",
       "      <td>...</td>\n",
       "      <td>...</td>\n",
       "    </tr>\n",
       "    <tr>\n",
       "      <th>121</th>\n",
       "      <td>2/19/2021</td>\n",
       "      <td>55.040001</td>\n",
       "    </tr>\n",
       "    <tr>\n",
       "      <th>122</th>\n",
       "      <td>2/22/2021</td>\n",
       "      <td>50.680000</td>\n",
       "    </tr>\n",
       "    <tr>\n",
       "      <th>123</th>\n",
       "      <td>2/23/2021</td>\n",
       "      <td>49.110001</td>\n",
       "    </tr>\n",
       "    <tr>\n",
       "      <th>124</th>\n",
       "      <td>2/24/2021</td>\n",
       "      <td>51.860001</td>\n",
       "    </tr>\n",
       "    <tr>\n",
       "      <th>125</th>\n",
       "      <td>2/25/2021</td>\n",
       "      <td>46.810001</td>\n",
       "    </tr>\n",
       "  </tbody>\n",
       "</table>\n",
       "<p>126 rows × 2 columns</p>\n",
       "</div>"
      ],
      "text/plain": [
       "          Date  Adj Close\n",
       "0    8/26/2020  20.440001\n",
       "1    8/27/2020  19.879999\n",
       "2    8/28/2020  18.500000\n",
       "3    8/31/2020  19.030001\n",
       "4     9/1/2020  20.120001\n",
       "..         ...        ...\n",
       "121  2/19/2021  55.040001\n",
       "122  2/22/2021  50.680000\n",
       "123  2/23/2021  49.110001\n",
       "124  2/24/2021  51.860001\n",
       "125  2/25/2021  46.810001\n",
       "\n",
       "[126 rows x 2 columns]"
      ]
     },
     "execution_count": 27,
     "metadata": {},
     "output_type": "execute_result"
    }
   ],
   "source": [
    "# filter date and Adj Close in nio dataframe\n",
    "nio.copy()\n",
    "new_nio=nio[[\"Date\",\"Adj Close\"]]\n",
    "new_nio"
   ]
  },
  {
   "cell_type": "code",
   "execution_count": 28,
   "metadata": {},
   "outputs": [
    {
     "data": {
      "text/html": [
       "<div>\n",
       "<style scoped>\n",
       "    .dataframe tbody tr th:only-of-type {\n",
       "        vertical-align: middle;\n",
       "    }\n",
       "\n",
       "    .dataframe tbody tr th {\n",
       "        vertical-align: top;\n",
       "    }\n",
       "\n",
       "    .dataframe thead th {\n",
       "        text-align: right;\n",
       "    }\n",
       "</style>\n",
       "<table border=\"1\" class=\"dataframe\">\n",
       "  <thead>\n",
       "    <tr style=\"text-align: right;\">\n",
       "      <th></th>\n",
       "      <th>Date</th>\n",
       "      <th>Adj Close</th>\n",
       "    </tr>\n",
       "  </thead>\n",
       "  <tbody>\n",
       "    <tr>\n",
       "      <th>252</th>\n",
       "      <td>8/27/2020</td>\n",
       "      <td>21.219999</td>\n",
       "    </tr>\n",
       "    <tr>\n",
       "      <th>253</th>\n",
       "      <td>8/28/2020</td>\n",
       "      <td>22.790001</td>\n",
       "    </tr>\n",
       "    <tr>\n",
       "      <th>254</th>\n",
       "      <td>8/31/2020</td>\n",
       "      <td>20.500000</td>\n",
       "    </tr>\n",
       "    <tr>\n",
       "      <th>255</th>\n",
       "      <td>9/1/2020</td>\n",
       "      <td>21.610001</td>\n",
       "    </tr>\n",
       "    <tr>\n",
       "      <th>256</th>\n",
       "      <td>9/2/2020</td>\n",
       "      <td>21.090000</td>\n",
       "    </tr>\n",
       "    <tr>\n",
       "      <th>...</th>\n",
       "      <td>...</td>\n",
       "      <td>...</td>\n",
       "    </tr>\n",
       "    <tr>\n",
       "      <th>372</th>\n",
       "      <td>2/19/2021</td>\n",
       "      <td>40.880001</td>\n",
       "    </tr>\n",
       "    <tr>\n",
       "      <th>373</th>\n",
       "      <td>2/22/2021</td>\n",
       "      <td>38.000000</td>\n",
       "    </tr>\n",
       "    <tr>\n",
       "      <th>374</th>\n",
       "      <td>2/23/2021</td>\n",
       "      <td>37.910000</td>\n",
       "    </tr>\n",
       "    <tr>\n",
       "      <th>375</th>\n",
       "      <td>2/24/2021</td>\n",
       "      <td>38.709999</td>\n",
       "    </tr>\n",
       "    <tr>\n",
       "      <th>376</th>\n",
       "      <td>2/25/2021</td>\n",
       "      <td>35.400002</td>\n",
       "    </tr>\n",
       "  </tbody>\n",
       "</table>\n",
       "<p>125 rows × 2 columns</p>\n",
       "</div>"
      ],
      "text/plain": [
       "          Date  Adj Close\n",
       "252  8/27/2020  21.219999\n",
       "253  8/28/2020  22.790001\n",
       "254  8/31/2020  20.500000\n",
       "255   9/1/2020  21.610001\n",
       "256   9/2/2020  21.090000\n",
       "..         ...        ...\n",
       "372  2/19/2021  40.880001\n",
       "373  2/22/2021  38.000000\n",
       "374  2/23/2021  37.910000\n",
       "375  2/24/2021  38.709999\n",
       "376  2/25/2021  35.400002\n",
       "\n",
       "[125 rows x 2 columns]"
      ]
     },
     "execution_count": 28,
     "metadata": {},
     "output_type": "execute_result"
    }
   ],
   "source": [
    "# filter date and Adj Close in xpev dataframe\n",
    "xpev.copy()\n",
    "new_xpev=xpev[[\"Date\",\"Adj Close\"]]\n",
    "new_xpev"
   ]
  },
  {
   "cell_type": "code",
   "execution_count": 29,
   "metadata": {},
   "outputs": [
    {
     "data": {
      "text/html": [
       "<div>\n",
       "<style scoped>\n",
       "    .dataframe tbody tr th:only-of-type {\n",
       "        vertical-align: middle;\n",
       "    }\n",
       "\n",
       "    .dataframe tbody tr th {\n",
       "        vertical-align: top;\n",
       "    }\n",
       "\n",
       "    .dataframe thead th {\n",
       "        text-align: right;\n",
       "    }\n",
       "</style>\n",
       "<table border=\"1\" class=\"dataframe\">\n",
       "  <thead>\n",
       "    <tr style=\"text-align: right;\">\n",
       "      <th></th>\n",
       "      <th>Date</th>\n",
       "      <th>Adj Close</th>\n",
       "    </tr>\n",
       "  </thead>\n",
       "  <tbody>\n",
       "    <tr>\n",
       "      <th>126</th>\n",
       "      <td>8/26/2020</td>\n",
       "      <td>23.379999</td>\n",
       "    </tr>\n",
       "    <tr>\n",
       "      <th>127</th>\n",
       "      <td>8/27/2020</td>\n",
       "      <td>19.379999</td>\n",
       "    </tr>\n",
       "    <tr>\n",
       "      <th>128</th>\n",
       "      <td>8/28/2020</td>\n",
       "      <td>17.600000</td>\n",
       "    </tr>\n",
       "    <tr>\n",
       "      <th>129</th>\n",
       "      <td>8/31/2020</td>\n",
       "      <td>16.299999</td>\n",
       "    </tr>\n",
       "    <tr>\n",
       "      <th>130</th>\n",
       "      <td>9/1/2020</td>\n",
       "      <td>18.290001</td>\n",
       "    </tr>\n",
       "    <tr>\n",
       "      <th>...</th>\n",
       "      <td>...</td>\n",
       "      <td>...</td>\n",
       "    </tr>\n",
       "    <tr>\n",
       "      <th>247</th>\n",
       "      <td>2/19/2021</td>\n",
       "      <td>29.840000</td>\n",
       "    </tr>\n",
       "    <tr>\n",
       "      <th>248</th>\n",
       "      <td>2/22/2021</td>\n",
       "      <td>27.840000</td>\n",
       "    </tr>\n",
       "    <tr>\n",
       "      <th>249</th>\n",
       "      <td>2/23/2021</td>\n",
       "      <td>26.990000</td>\n",
       "    </tr>\n",
       "    <tr>\n",
       "      <th>250</th>\n",
       "      <td>2/24/2021</td>\n",
       "      <td>28.680000</td>\n",
       "    </tr>\n",
       "    <tr>\n",
       "      <th>251</th>\n",
       "      <td>2/25/2021</td>\n",
       "      <td>25.870001</td>\n",
       "    </tr>\n",
       "  </tbody>\n",
       "</table>\n",
       "<p>126 rows × 2 columns</p>\n",
       "</div>"
      ],
      "text/plain": [
       "          Date  Adj Close\n",
       "126  8/26/2020  23.379999\n",
       "127  8/27/2020  19.379999\n",
       "128  8/28/2020  17.600000\n",
       "129  8/31/2020  16.299999\n",
       "130   9/1/2020  18.290001\n",
       "..         ...        ...\n",
       "247  2/19/2021  29.840000\n",
       "248  2/22/2021  27.840000\n",
       "249  2/23/2021  26.990000\n",
       "250  2/24/2021  28.680000\n",
       "251  2/25/2021  25.870001\n",
       "\n",
       "[126 rows x 2 columns]"
      ]
     },
     "execution_count": 29,
     "metadata": {},
     "output_type": "execute_result"
    }
   ],
   "source": [
    "# filter date and Adj Close in li dataframe\n",
    "li.copy()\n",
    "new_li = li[[\"Date\",\"Adj Close\"]]\n",
    "new_li"
   ]
  },
  {
   "cell_type": "code",
   "execution_count": 30,
   "metadata": {},
   "outputs": [
    {
     "data": {
      "text/html": [
       "<div>\n",
       "<style scoped>\n",
       "    .dataframe tbody tr th:only-of-type {\n",
       "        vertical-align: middle;\n",
       "    }\n",
       "\n",
       "    .dataframe tbody tr th {\n",
       "        vertical-align: top;\n",
       "    }\n",
       "\n",
       "    .dataframe thead th {\n",
       "        text-align: right;\n",
       "    }\n",
       "</style>\n",
       "<table border=\"1\" class=\"dataframe\">\n",
       "  <thead>\n",
       "    <tr style=\"text-align: right;\">\n",
       "      <th></th>\n",
       "      <th>Date</th>\n",
       "      <th>Adj Close</th>\n",
       "    </tr>\n",
       "  </thead>\n",
       "  <tbody>\n",
       "    <tr>\n",
       "      <th>377</th>\n",
       "      <td>8/26/2020</td>\n",
       "      <td>430.634003</td>\n",
       "    </tr>\n",
       "    <tr>\n",
       "      <th>378</th>\n",
       "      <td>8/27/2020</td>\n",
       "      <td>447.750000</td>\n",
       "    </tr>\n",
       "    <tr>\n",
       "      <th>379</th>\n",
       "      <td>8/28/2020</td>\n",
       "      <td>442.679993</td>\n",
       "    </tr>\n",
       "    <tr>\n",
       "      <th>380</th>\n",
       "      <td>8/31/2020</td>\n",
       "      <td>498.320007</td>\n",
       "    </tr>\n",
       "    <tr>\n",
       "      <th>381</th>\n",
       "      <td>9/1/2020</td>\n",
       "      <td>475.049988</td>\n",
       "    </tr>\n",
       "    <tr>\n",
       "      <th>...</th>\n",
       "      <td>...</td>\n",
       "      <td>...</td>\n",
       "    </tr>\n",
       "    <tr>\n",
       "      <th>498</th>\n",
       "      <td>2/19/2021</td>\n",
       "      <td>781.299988</td>\n",
       "    </tr>\n",
       "    <tr>\n",
       "      <th>499</th>\n",
       "      <td>2/22/2021</td>\n",
       "      <td>714.500000</td>\n",
       "    </tr>\n",
       "    <tr>\n",
       "      <th>500</th>\n",
       "      <td>2/23/2021</td>\n",
       "      <td>698.840027</td>\n",
       "    </tr>\n",
       "    <tr>\n",
       "      <th>501</th>\n",
       "      <td>2/24/2021</td>\n",
       "      <td>742.020020</td>\n",
       "    </tr>\n",
       "    <tr>\n",
       "      <th>502</th>\n",
       "      <td>2/25/2021</td>\n",
       "      <td>682.219971</td>\n",
       "    </tr>\n",
       "  </tbody>\n",
       "</table>\n",
       "<p>126 rows × 2 columns</p>\n",
       "</div>"
      ],
      "text/plain": [
       "          Date   Adj Close\n",
       "377  8/26/2020  430.634003\n",
       "378  8/27/2020  447.750000\n",
       "379  8/28/2020  442.679993\n",
       "380  8/31/2020  498.320007\n",
       "381   9/1/2020  475.049988\n",
       "..         ...         ...\n",
       "498  2/19/2021  781.299988\n",
       "499  2/22/2021  714.500000\n",
       "500  2/23/2021  698.840027\n",
       "501  2/24/2021  742.020020\n",
       "502  2/25/2021  682.219971\n",
       "\n",
       "[126 rows x 2 columns]"
      ]
     },
     "execution_count": 30,
     "metadata": {},
     "output_type": "execute_result"
    }
   ],
   "source": [
    "# filter date and Adj Close in tsla dataframe\n",
    "tsla.copy()\n",
    "new_tsla = tsla[[\"Date\",\"Adj Close\"]]\n",
    "new_tsla"
   ]
  },
  {
   "cell_type": "code",
   "execution_count": 31,
   "metadata": {},
   "outputs": [
    {
     "data": {
      "text/html": [
       "<div>\n",
       "<style scoped>\n",
       "    .dataframe tbody tr th:only-of-type {\n",
       "        vertical-align: middle;\n",
       "    }\n",
       "\n",
       "    .dataframe tbody tr th {\n",
       "        vertical-align: top;\n",
       "    }\n",
       "\n",
       "    .dataframe thead th {\n",
       "        text-align: right;\n",
       "    }\n",
       "</style>\n",
       "<table border=\"1\" class=\"dataframe\">\n",
       "  <thead>\n",
       "    <tr style=\"text-align: right;\">\n",
       "      <th></th>\n",
       "      <th>Date</th>\n",
       "      <th>Adj Close_x</th>\n",
       "      <th>Adj Close_y</th>\n",
       "    </tr>\n",
       "  </thead>\n",
       "  <tbody>\n",
       "    <tr>\n",
       "      <th>0</th>\n",
       "      <td>8/26/2020</td>\n",
       "      <td>23.379999</td>\n",
       "      <td>430.634003</td>\n",
       "    </tr>\n",
       "    <tr>\n",
       "      <th>1</th>\n",
       "      <td>8/27/2020</td>\n",
       "      <td>19.379999</td>\n",
       "      <td>447.750000</td>\n",
       "    </tr>\n",
       "    <tr>\n",
       "      <th>2</th>\n",
       "      <td>8/28/2020</td>\n",
       "      <td>17.600000</td>\n",
       "      <td>442.679993</td>\n",
       "    </tr>\n",
       "    <tr>\n",
       "      <th>3</th>\n",
       "      <td>8/31/2020</td>\n",
       "      <td>16.299999</td>\n",
       "      <td>498.320007</td>\n",
       "    </tr>\n",
       "    <tr>\n",
       "      <th>4</th>\n",
       "      <td>9/1/2020</td>\n",
       "      <td>18.290001</td>\n",
       "      <td>475.049988</td>\n",
       "    </tr>\n",
       "    <tr>\n",
       "      <th>...</th>\n",
       "      <td>...</td>\n",
       "      <td>...</td>\n",
       "      <td>...</td>\n",
       "    </tr>\n",
       "    <tr>\n",
       "      <th>121</th>\n",
       "      <td>2/19/2021</td>\n",
       "      <td>29.840000</td>\n",
       "      <td>781.299988</td>\n",
       "    </tr>\n",
       "    <tr>\n",
       "      <th>122</th>\n",
       "      <td>2/22/2021</td>\n",
       "      <td>27.840000</td>\n",
       "      <td>714.500000</td>\n",
       "    </tr>\n",
       "    <tr>\n",
       "      <th>123</th>\n",
       "      <td>2/23/2021</td>\n",
       "      <td>26.990000</td>\n",
       "      <td>698.840027</td>\n",
       "    </tr>\n",
       "    <tr>\n",
       "      <th>124</th>\n",
       "      <td>2/24/2021</td>\n",
       "      <td>28.680000</td>\n",
       "      <td>742.020020</td>\n",
       "    </tr>\n",
       "    <tr>\n",
       "      <th>125</th>\n",
       "      <td>2/25/2021</td>\n",
       "      <td>25.870001</td>\n",
       "      <td>682.219971</td>\n",
       "    </tr>\n",
       "  </tbody>\n",
       "</table>\n",
       "<p>126 rows × 3 columns</p>\n",
       "</div>"
      ],
      "text/plain": [
       "          Date  Adj Close_x  Adj Close_y\n",
       "0    8/26/2020    23.379999   430.634003\n",
       "1    8/27/2020    19.379999   447.750000\n",
       "2    8/28/2020    17.600000   442.679993\n",
       "3    8/31/2020    16.299999   498.320007\n",
       "4     9/1/2020    18.290001   475.049988\n",
       "..         ...          ...          ...\n",
       "121  2/19/2021    29.840000   781.299988\n",
       "122  2/22/2021    27.840000   714.500000\n",
       "123  2/23/2021    26.990000   698.840027\n",
       "124  2/24/2021    28.680000   742.020020\n",
       "125  2/25/2021    25.870001   682.219971\n",
       "\n",
       "[126 rows x 3 columns]"
      ]
     },
     "execution_count": 31,
     "metadata": {},
     "output_type": "execute_result"
    }
   ],
   "source": [
    "# merge li and tsla as a\n",
    "a = pd.merge(new_li,new_tsla,how='inner',on='Date')\n",
    "a"
   ]
  },
  {
   "cell_type": "code",
   "execution_count": 32,
   "metadata": {},
   "outputs": [
    {
     "data": {
      "text/html": [
       "<div>\n",
       "<style scoped>\n",
       "    .dataframe tbody tr th:only-of-type {\n",
       "        vertical-align: middle;\n",
       "    }\n",
       "\n",
       "    .dataframe tbody tr th {\n",
       "        vertical-align: top;\n",
       "    }\n",
       "\n",
       "    .dataframe thead th {\n",
       "        text-align: right;\n",
       "    }\n",
       "</style>\n",
       "<table border=\"1\" class=\"dataframe\">\n",
       "  <thead>\n",
       "    <tr style=\"text-align: right;\">\n",
       "      <th></th>\n",
       "      <th>Date</th>\n",
       "      <th>Adj Close_x</th>\n",
       "      <th>Adj Close_y</th>\n",
       "    </tr>\n",
       "  </thead>\n",
       "  <tbody>\n",
       "    <tr>\n",
       "      <th>0</th>\n",
       "      <td>8/27/2020</td>\n",
       "      <td>19.879999</td>\n",
       "      <td>21.219999</td>\n",
       "    </tr>\n",
       "    <tr>\n",
       "      <th>1</th>\n",
       "      <td>8/28/2020</td>\n",
       "      <td>18.500000</td>\n",
       "      <td>22.790001</td>\n",
       "    </tr>\n",
       "    <tr>\n",
       "      <th>2</th>\n",
       "      <td>8/31/2020</td>\n",
       "      <td>19.030001</td>\n",
       "      <td>20.500000</td>\n",
       "    </tr>\n",
       "    <tr>\n",
       "      <th>3</th>\n",
       "      <td>9/1/2020</td>\n",
       "      <td>20.120001</td>\n",
       "      <td>21.610001</td>\n",
       "    </tr>\n",
       "    <tr>\n",
       "      <th>4</th>\n",
       "      <td>9/2/2020</td>\n",
       "      <td>19.900000</td>\n",
       "      <td>21.090000</td>\n",
       "    </tr>\n",
       "    <tr>\n",
       "      <th>...</th>\n",
       "      <td>...</td>\n",
       "      <td>...</td>\n",
       "      <td>...</td>\n",
       "    </tr>\n",
       "    <tr>\n",
       "      <th>120</th>\n",
       "      <td>2/19/2021</td>\n",
       "      <td>55.040001</td>\n",
       "      <td>40.880001</td>\n",
       "    </tr>\n",
       "    <tr>\n",
       "      <th>121</th>\n",
       "      <td>2/22/2021</td>\n",
       "      <td>50.680000</td>\n",
       "      <td>38.000000</td>\n",
       "    </tr>\n",
       "    <tr>\n",
       "      <th>122</th>\n",
       "      <td>2/23/2021</td>\n",
       "      <td>49.110001</td>\n",
       "      <td>37.910000</td>\n",
       "    </tr>\n",
       "    <tr>\n",
       "      <th>123</th>\n",
       "      <td>2/24/2021</td>\n",
       "      <td>51.860001</td>\n",
       "      <td>38.709999</td>\n",
       "    </tr>\n",
       "    <tr>\n",
       "      <th>124</th>\n",
       "      <td>2/25/2021</td>\n",
       "      <td>46.810001</td>\n",
       "      <td>35.400002</td>\n",
       "    </tr>\n",
       "  </tbody>\n",
       "</table>\n",
       "<p>125 rows × 3 columns</p>\n",
       "</div>"
      ],
      "text/plain": [
       "          Date  Adj Close_x  Adj Close_y\n",
       "0    8/27/2020    19.879999    21.219999\n",
       "1    8/28/2020    18.500000    22.790001\n",
       "2    8/31/2020    19.030001    20.500000\n",
       "3     9/1/2020    20.120001    21.610001\n",
       "4     9/2/2020    19.900000    21.090000\n",
       "..         ...          ...          ...\n",
       "120  2/19/2021    55.040001    40.880001\n",
       "121  2/22/2021    50.680000    38.000000\n",
       "122  2/23/2021    49.110001    37.910000\n",
       "123  2/24/2021    51.860001    38.709999\n",
       "124  2/25/2021    46.810001    35.400002\n",
       "\n",
       "[125 rows x 3 columns]"
      ]
     },
     "execution_count": 32,
     "metadata": {},
     "output_type": "execute_result"
    }
   ],
   "source": [
    "# merge nio and xpev as b\n",
    "b = pd.merge(new_nio,new_xpev,how='inner',on='Date')\n",
    "b"
   ]
  },
  {
   "cell_type": "code",
   "execution_count": 33,
   "metadata": {},
   "outputs": [
    {
     "data": {
      "text/html": [
       "<div>\n",
       "<style scoped>\n",
       "    .dataframe tbody tr th:only-of-type {\n",
       "        vertical-align: middle;\n",
       "    }\n",
       "\n",
       "    .dataframe tbody tr th {\n",
       "        vertical-align: top;\n",
       "    }\n",
       "\n",
       "    .dataframe thead th {\n",
       "        text-align: right;\n",
       "    }\n",
       "</style>\n",
       "<table border=\"1\" class=\"dataframe\">\n",
       "  <thead>\n",
       "    <tr style=\"text-align: right;\">\n",
       "      <th></th>\n",
       "      <th>Date</th>\n",
       "      <th>li</th>\n",
       "      <th>tsla</th>\n",
       "      <th>xpev</th>\n",
       "      <th>nio</th>\n",
       "    </tr>\n",
       "  </thead>\n",
       "  <tbody>\n",
       "    <tr>\n",
       "      <th>0</th>\n",
       "      <td>8/27/2020</td>\n",
       "      <td>19.379999</td>\n",
       "      <td>447.750000</td>\n",
       "      <td>19.879999</td>\n",
       "      <td>21.219999</td>\n",
       "    </tr>\n",
       "    <tr>\n",
       "      <th>1</th>\n",
       "      <td>8/28/2020</td>\n",
       "      <td>17.600000</td>\n",
       "      <td>442.679993</td>\n",
       "      <td>18.500000</td>\n",
       "      <td>22.790001</td>\n",
       "    </tr>\n",
       "    <tr>\n",
       "      <th>2</th>\n",
       "      <td>8/31/2020</td>\n",
       "      <td>16.299999</td>\n",
       "      <td>498.320007</td>\n",
       "      <td>19.030001</td>\n",
       "      <td>20.500000</td>\n",
       "    </tr>\n",
       "    <tr>\n",
       "      <th>3</th>\n",
       "      <td>9/1/2020</td>\n",
       "      <td>18.290001</td>\n",
       "      <td>475.049988</td>\n",
       "      <td>20.120001</td>\n",
       "      <td>21.610001</td>\n",
       "    </tr>\n",
       "    <tr>\n",
       "      <th>4</th>\n",
       "      <td>9/2/2020</td>\n",
       "      <td>17.870001</td>\n",
       "      <td>447.369995</td>\n",
       "      <td>19.900000</td>\n",
       "      <td>21.090000</td>\n",
       "    </tr>\n",
       "    <tr>\n",
       "      <th>...</th>\n",
       "      <td>...</td>\n",
       "      <td>...</td>\n",
       "      <td>...</td>\n",
       "      <td>...</td>\n",
       "      <td>...</td>\n",
       "    </tr>\n",
       "    <tr>\n",
       "      <th>120</th>\n",
       "      <td>2/19/2021</td>\n",
       "      <td>29.840000</td>\n",
       "      <td>781.299988</td>\n",
       "      <td>55.040001</td>\n",
       "      <td>40.880001</td>\n",
       "    </tr>\n",
       "    <tr>\n",
       "      <th>121</th>\n",
       "      <td>2/22/2021</td>\n",
       "      <td>27.840000</td>\n",
       "      <td>714.500000</td>\n",
       "      <td>50.680000</td>\n",
       "      <td>38.000000</td>\n",
       "    </tr>\n",
       "    <tr>\n",
       "      <th>122</th>\n",
       "      <td>2/23/2021</td>\n",
       "      <td>26.990000</td>\n",
       "      <td>698.840027</td>\n",
       "      <td>49.110001</td>\n",
       "      <td>37.910000</td>\n",
       "    </tr>\n",
       "    <tr>\n",
       "      <th>123</th>\n",
       "      <td>2/24/2021</td>\n",
       "      <td>28.680000</td>\n",
       "      <td>742.020020</td>\n",
       "      <td>51.860001</td>\n",
       "      <td>38.709999</td>\n",
       "    </tr>\n",
       "    <tr>\n",
       "      <th>124</th>\n",
       "      <td>2/25/2021</td>\n",
       "      <td>25.870001</td>\n",
       "      <td>682.219971</td>\n",
       "      <td>46.810001</td>\n",
       "      <td>35.400002</td>\n",
       "    </tr>\n",
       "  </tbody>\n",
       "</table>\n",
       "<p>125 rows × 5 columns</p>\n",
       "</div>"
      ],
      "text/plain": [
       "          Date         li        tsla       xpev        nio\n",
       "0    8/27/2020  19.379999  447.750000  19.879999  21.219999\n",
       "1    8/28/2020  17.600000  442.679993  18.500000  22.790001\n",
       "2    8/31/2020  16.299999  498.320007  19.030001  20.500000\n",
       "3     9/1/2020  18.290001  475.049988  20.120001  21.610001\n",
       "4     9/2/2020  17.870001  447.369995  19.900000  21.090000\n",
       "..         ...        ...         ...        ...        ...\n",
       "120  2/19/2021  29.840000  781.299988  55.040001  40.880001\n",
       "121  2/22/2021  27.840000  714.500000  50.680000  38.000000\n",
       "122  2/23/2021  26.990000  698.840027  49.110001  37.910000\n",
       "123  2/24/2021  28.680000  742.020020  51.860001  38.709999\n",
       "124  2/25/2021  25.870001  682.219971  46.810001  35.400002\n",
       "\n",
       "[125 rows x 5 columns]"
      ]
     },
     "execution_count": 33,
     "metadata": {},
     "output_type": "execute_result"
    }
   ],
   "source": [
    "# merge a and b as new df\n",
    "# update columns name \n",
    "# assign df to new dataframe as mydata.\n",
    "df = pd.merge(a,b,how='inner',on='Date')\n",
    "mydata = df.rename(columns={'Adj Close_x_x':'li','Adj Close_y_x':'tsla','Adj Close_x_y':'xpev','Adj Close_y_y':'nio'})\n",
    "mydata"
   ]
  },
  {
   "cell_type": "code",
   "execution_count": 34,
   "metadata": {},
   "outputs": [
    {
     "data": {
      "text/html": [
       "<div>\n",
       "<style scoped>\n",
       "    .dataframe tbody tr th:only-of-type {\n",
       "        vertical-align: middle;\n",
       "    }\n",
       "\n",
       "    .dataframe tbody tr th {\n",
       "        vertical-align: top;\n",
       "    }\n",
       "\n",
       "    .dataframe thead th {\n",
       "        text-align: right;\n",
       "    }\n",
       "</style>\n",
       "<table border=\"1\" class=\"dataframe\">\n",
       "  <thead>\n",
       "    <tr style=\"text-align: right;\">\n",
       "      <th></th>\n",
       "      <th>li</th>\n",
       "      <th>tsla</th>\n",
       "      <th>xpev</th>\n",
       "      <th>nio</th>\n",
       "    </tr>\n",
       "  </thead>\n",
       "  <tbody>\n",
       "    <tr>\n",
       "      <th>li</th>\n",
       "      <td>1.000000</td>\n",
       "      <td>0.681448</td>\n",
       "      <td>0.909676</td>\n",
       "      <td>0.972743</td>\n",
       "    </tr>\n",
       "    <tr>\n",
       "      <th>tsla</th>\n",
       "      <td>0.681448</td>\n",
       "      <td>1.000000</td>\n",
       "      <td>0.863696</td>\n",
       "      <td>0.730739</td>\n",
       "    </tr>\n",
       "    <tr>\n",
       "      <th>xpev</th>\n",
       "      <td>0.909676</td>\n",
       "      <td>0.863696</td>\n",
       "      <td>1.000000</td>\n",
       "      <td>0.903530</td>\n",
       "    </tr>\n",
       "    <tr>\n",
       "      <th>nio</th>\n",
       "      <td>0.972743</td>\n",
       "      <td>0.730739</td>\n",
       "      <td>0.903530</td>\n",
       "      <td>1.000000</td>\n",
       "    </tr>\n",
       "  </tbody>\n",
       "</table>\n",
       "</div>"
      ],
      "text/plain": [
       "            li      tsla      xpev       nio\n",
       "li    1.000000  0.681448  0.909676  0.972743\n",
       "tsla  0.681448  1.000000  0.863696  0.730739\n",
       "xpev  0.909676  0.863696  1.000000  0.903530\n",
       "nio   0.972743  0.730739  0.903530  1.000000"
      ]
     },
     "execution_count": 34,
     "metadata": {},
     "output_type": "execute_result"
    }
   ],
   "source": [
    "# type out correlation \n",
    "corr_matrix = mydata.corr()\n",
    "corr_matrix"
   ]
  },
  {
   "cell_type": "code",
   "execution_count": 35,
   "metadata": {},
   "outputs": [
    {
     "data": {
      "text/plain": [
       "<AxesSubplot:>"
      ]
     },
     "execution_count": 35,
     "metadata": {},
     "output_type": "execute_result"
    },
    {
     "data": {
      "image/png": "[encoded data removed]",
      "text/plain": [
       "<Figure size 432x288 with 2 Axes>"
      ]
     },
     "metadata": {
      "needs_background": "light"
     },
     "output_type": "display_data"
    }
   ],
   "source": [
    "#seaborn\n",
    "sns.heatmap(corr_matrix)"
   ]
  },
  {
   "cell_type": "code",
   "execution_count": 36,
   "metadata": {},
   "outputs": [],
   "source": [
    "#matplot\n",
    "row =[\"li\",\"tsla\",\"xpev\",\"nio\"]\n",
    "column =[\"li\",\"tsla\",\"xpev\",\"nio\"]\n",
    "re = np.array([[1.000000,0.681448,0.909676,0.972743],[0.681448,1.000000,0.863696,0.730739],[0.909676,0.863696,1.000000,0.903530],\n",
    "                [0.972743,0.730739,0.903530,1.000000]])"
   ]
  },
  {
   "cell_type": "code",
   "execution_count": 37,
   "metadata": {},
   "outputs": [
    {
     "data": {
      "image/png": "[encoded data removed]",
      "text/plain": [
       "<Figure size 432x288 with 1 Axes>"
      ]
     },
     "metadata": {
      "needs_background": "light"
     },
     "output_type": "display_data"
    }
   ],
   "source": [
    "#create plot\n",
    "fig,ax = plt.subplots()\n",
    "im = ax.imshow(re)\n",
    "# show all ticks\n",
    "ax.set_xticks(np.arange(len(row)))\n",
    "ax.set_yticks(np.arange(len(column)))\n",
    "#label them with the respective list entries\n",
    "ax.set_xticklabels(row)\n",
    "ax.set_yticklabels(column)\n",
    "# rotate the tick labels and set their alignment\n",
    "plt.setp(ax.get_xticklabels(),rotation = 45,ha='right',rotation_mode=\"anchor\")\n",
    "#loop over data dimensions and create text annotations\n",
    "for i in range((len(row))):\n",
    "    for j in range((len(column))):\n",
    "        text = ax.text(j,i,re[i,j],\n",
    "                       ha=\"center\",va=\"center\",color=\"w\")\n",
    "ax.set_title(\"Correlation of EV stock\")\n",
    "fig.tight_layout()\n",
    "plt.show()"
   ]
  },
  {
   "cell_type": "markdown",
   "metadata": {},
   "source": [
    "Narrative describe: From the two graphs,we can clearly recognize that all of the correlation coefficient is positive in the same \n",
    "direction. The stock price of tsla has a positive correlation to the other three stock prices, but it's not as high or approximately 0.86. The stock price of Nio,xpev and li are highly correlated to each other. We think the reason might be they are China concept stock."
   ]
  },
  {
   "cell_type": "markdown",
   "metadata": {},
   "source": [
    "# Part 5: Conclusion"
   ]
  },
  {
   "cell_type": "markdown",
   "metadata": {},
   "source": [
    "Among the four stocks, the xpev stock has the most volatility and the highest investment risk. The investment risk coefficients of tsla are relatively low. Nio has the greatest return on investment，while LI has the worst return on investment."
   ]
  },
  {
   "cell_type": "markdown",
   "metadata": {},
   "source": [
    "# Reference:"
   ]
  },
  {
   "cell_type": "markdown",
   "metadata": {},
   "source": [
    "Python:\n",
    "https://pandas.pydata.org/pandas-docs/stable/reference/api/pandas.DataFrame.pct_change.html \n",
    "\n",
    "https://pandas.pydata.org/pandas-docs/stable/reference/api/pandas.DataFrame.cumprod.html\n",
    "\n",
    "https://pandas.pydata.org/pandas-docs/stable/reference/api/pandas.DataFrame.shift.html\n",
    "\n",
    "https://pandas.pydata.org/pandas-docs/stable/user_guide/merging.html\n",
    "\n",
    "https://seaborn.pydata.org/generated/seaborn.heatmap.html\n",
    "\n",
    "Investopedia:\n",
    "\n",
    "https://www.investopedia.com/terms/c/correlation.asp\n",
    "\n",
    "https://www.investopedia.com/terms/s/standarddeviation.asp\n",
    "\n",
    "https://www.investopedia.com/terms/v/volume.asp"
   ]
  },
  {
   "cell_type": "code",
   "execution_count": null,
   "metadata": {},
   "outputs": [],
   "source": []
  }
 ],
 "metadata": {
  "kernelspec": {
   "display_name": "Python 3",
   "language": "python",
   "name": "python3"
  },
  "language_info": {
   "codemirror_mode": {
    "name": "ipython",
    "version": 3
   },
   "file_extension": ".py",
   "mimetype": "text/x-python",
   "name": "python",
   "nbconvert_exporter": "python",
   "pygments_lexer": "ipython3",
   "version": "3.8.5"
  }
 },
 "nbformat": 4,
 "nbformat_minor": 4
}
